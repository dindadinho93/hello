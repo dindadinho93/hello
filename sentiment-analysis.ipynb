{
 "cells": [
  {
   "cell_type": "code",
   "execution_count": 1,
   "id": "656a0fa2",
   "metadata": {},
   "outputs": [],
   "source": [
    "#import numpy as np\n",
    "import pandas as pd\n",
    "import matplotlib.pyplot as plt\n",
    "import tensorflow as tf\n",
    "from keras.models import Sequential\n",
    "from keras.layers import Dense, Dropout, Embedding, LSTM, Bidirectional\n",
    "import nltk\n",
    "import re\n",
    "from nltk.stem import WordNetLemmatizer\n",
    "from sklearn.preprocessing import LabelEncoder\n",
    "from tensorflow.keras.preprocessing.text import Tokenizer\n",
    "from tensorflow.keras.preprocessing.sequence import pad_sequences\n",
    "from sklearn.feature_extraction.text import CountVectorizer\n",
    "from sklearn.model_selection import train_test_split \n",
    "\n",
    "import tensorflow_hub as hub"
   ]
  },
  {
   "cell_type": "code",
   "execution_count": 2,
   "id": "62549856",
   "metadata": {},
   "outputs": [
    {
     "data": {
      "text/html": [
       "<div>\n",
       "<style scoped>\n",
       "    .dataframe tbody tr th:only-of-type {\n",
       "        vertical-align: middle;\n",
       "    }\n",
       "\n",
       "    .dataframe tbody tr th {\n",
       "        vertical-align: top;\n",
       "    }\n",
       "\n",
       "    .dataframe thead th {\n",
       "        text-align: right;\n",
       "    }\n",
       "</style>\n",
       "<table border=\"1\" class=\"dataframe\">\n",
       "  <thead>\n",
       "    <tr style=\"text-align: right;\">\n",
       "      <th></th>\n",
       "      <th>text</th>\n",
       "      <th>airline_sentiment</th>\n",
       "    </tr>\n",
       "  </thead>\n",
       "  <tbody>\n",
       "    <tr>\n",
       "      <th>1</th>\n",
       "      <td>@VirginAmerica plus you've added commercials t...</td>\n",
       "      <td>positive</td>\n",
       "    </tr>\n",
       "    <tr>\n",
       "      <th>3</th>\n",
       "      <td>@VirginAmerica it's really aggressive to blast...</td>\n",
       "      <td>negative</td>\n",
       "    </tr>\n",
       "    <tr>\n",
       "      <th>4</th>\n",
       "      <td>@VirginAmerica and it's a really big bad thing...</td>\n",
       "      <td>negative</td>\n",
       "    </tr>\n",
       "    <tr>\n",
       "      <th>5</th>\n",
       "      <td>@VirginAmerica seriously would pay $30 a fligh...</td>\n",
       "      <td>negative</td>\n",
       "    </tr>\n",
       "    <tr>\n",
       "      <th>6</th>\n",
       "      <td>@VirginAmerica yes, nearly every time I fly VX...</td>\n",
       "      <td>positive</td>\n",
       "    </tr>\n",
       "    <tr>\n",
       "      <th>...</th>\n",
       "      <td>...</td>\n",
       "      <td>...</td>\n",
       "    </tr>\n",
       "    <tr>\n",
       "      <th>14633</th>\n",
       "      <td>@AmericanAir my flight was Cancelled Flightled...</td>\n",
       "      <td>negative</td>\n",
       "    </tr>\n",
       "    <tr>\n",
       "      <th>14634</th>\n",
       "      <td>@AmericanAir right on cue with the delays👌</td>\n",
       "      <td>negative</td>\n",
       "    </tr>\n",
       "    <tr>\n",
       "      <th>14635</th>\n",
       "      <td>@AmericanAir thank you we got on a different f...</td>\n",
       "      <td>positive</td>\n",
       "    </tr>\n",
       "    <tr>\n",
       "      <th>14636</th>\n",
       "      <td>@AmericanAir leaving over 20 minutes Late Flig...</td>\n",
       "      <td>negative</td>\n",
       "    </tr>\n",
       "    <tr>\n",
       "      <th>14638</th>\n",
       "      <td>@AmericanAir you have my money, you change my ...</td>\n",
       "      <td>negative</td>\n",
       "    </tr>\n",
       "  </tbody>\n",
       "</table>\n",
       "<p>11541 rows × 2 columns</p>\n",
       "</div>"
      ],
      "text/plain": [
       "                                                    text airline_sentiment\n",
       "1      @VirginAmerica plus you've added commercials t...          positive\n",
       "3      @VirginAmerica it's really aggressive to blast...          negative\n",
       "4      @VirginAmerica and it's a really big bad thing...          negative\n",
       "5      @VirginAmerica seriously would pay $30 a fligh...          negative\n",
       "6      @VirginAmerica yes, nearly every time I fly VX...          positive\n",
       "...                                                  ...               ...\n",
       "14633  @AmericanAir my flight was Cancelled Flightled...          negative\n",
       "14634         @AmericanAir right on cue with the delays👌          negative\n",
       "14635  @AmericanAir thank you we got on a different f...          positive\n",
       "14636  @AmericanAir leaving over 20 minutes Late Flig...          negative\n",
       "14638  @AmericanAir you have my money, you change my ...          negative\n",
       "\n",
       "[11541 rows x 2 columns]"
      ]
     },
     "execution_count": 2,
     "metadata": {},
     "output_type": "execute_result"
    }
   ],
   "source": [
    "num_of_words = 10000\n",
    "data = pd.read_csv('Tweets.csv')\n",
    "tweet_df = data[['text','airline_sentiment']]\n",
    "tweet_df = tweet_df[tweet_df['airline_sentiment'] != 'neutral']\n",
    "tweet = tweet_df['text'].values\n",
    "tweet_df"
   ]
  },
  {
   "cell_type": "code",
   "execution_count": 3,
   "id": "47bd80b8",
   "metadata": {},
   "outputs": [],
   "source": [
    "label = LabelEncoder().fit_transform(tweet_df['airline_sentiment'])\n",
    "#label = tf.keras.utils.to_categorical(label)"
   ]
  },
  {
   "cell_type": "code",
   "execution_count": 4,
   "id": "867f0a8e",
   "metadata": {},
   "outputs": [],
   "source": [
    "doc = []\n",
    "\n",
    "stemmer = WordNetLemmatizer()\n",
    "\n",
    "for sen in range(0, len(tweet)):\n",
    "    # Remove all the special characters\n",
    "    document = re.sub(r'\\W', ' ', str(tweet[sen]))\n",
    "    \n",
    "    # remove all single characters\n",
    "    document = re.sub(r'\\s+[a-zA-Z]\\s+', ' ', document)\n",
    "    \n",
    "    # Remove single characters from the start\n",
    "    document = re.sub(r'\\^[a-zA-Z]\\s+', ' ', document) \n",
    "    \n",
    "    # Substituting multiple spaces with single space\n",
    "    document = re.sub(r'\\s+', ' ', document, flags=re.I)\n",
    "    \n",
    "    # Removing prefixed 'b'\n",
    "    document = re.sub(r'^b\\s+', '', document)\n",
    "    \n",
    "    # Converting to Lowercase\n",
    "    document = document.lower()\n",
    "    \n",
    "    # Lemmatization\n",
    "    document = document.split()\n",
    "\n",
    "    document = [stemmer.lemmatize(word) for word in document]\n",
    "    document = ' '.join(document)\n",
    "    \n",
    "    doc.append(document)\n"
   ]
  },
  {
   "cell_type": "code",
   "execution_count": 5,
   "id": "cf2c39d2",
   "metadata": {},
   "outputs": [
    {
     "name": "stdout",
     "output_type": "stream",
     "text": [
      "                word  count\n",
      "0      virginamerica    347\n",
      "1               plus     46\n",
      "2                you   3635\n",
      "3                 ve    438\n",
      "4              added     14\n",
      "...              ...    ...\n",
      "11892       function      1\n",
      "11893       nocharge      1\n",
      "11894     drw08djhai      1\n",
      "11895           aire      1\n",
      "11896       jlhalldc      1\n",
      "\n",
      "[11897 rows x 2 columns]\n",
      "\n"
     ]
    }
   ],
   "source": [
    "from sklearn.feature_extraction.text import TfidfVectorizer\n",
    "\n",
    "tokenizer = Tokenizer(num_words=num_of_words)\n",
    "tokenizer.fit_on_texts(doc)\n",
    "\n",
    "vocab_size = len(tokenizer.word_index) + 1\n",
    "encoded_docs = tokenizer.texts_to_sequences(doc)\n",
    "padded_sequence = pad_sequences(encoded_docs, maxlen=33, padding='post')\n",
    "\n",
    "vectorizer = CountVectorizer(max_features=1500)\n",
    "X = vectorizer.fit(doc)\n",
    "#X = vectorizer.transform(doc)\n",
    "#pint(X.vocabulary_)\n",
    "layer = tf.keras.layers.TextVectorization()\n",
    "layer.adapt(doc)\n",
    "vt = layer(doc).numpy()\n",
    "\n",
    "data1 = tokenizer.word_counts\n",
    "data1 = dict(data1)\n",
    "df = pd.DataFrame(data1.items(), columns=['word', 'count'])\n",
    "print(df)\n",
    "\n",
    "#link = 'https://tfhub.dev/google/tf2-preview/nnlm-en-dim50-with-normalization/1' \n",
    "#embed = hub.load(link)\n",
    "#vem = embed(doc).numpy()\n",
    "#padded_sequence = pad_sequences(vem, maxlen=100, dtype='float32', padding='post')\n",
    "print()\n",
    "#print(vectorizer.get_feature_names())\n",
    "#X[0]"
   ]
  },
  {
   "cell_type": "code",
   "execution_count": 6,
   "id": "b8f900a6",
   "metadata": {},
   "outputs": [
    {
     "name": "stdout",
     "output_type": "stream",
     "text": [
      "(8078, 33) (8078,) (3463, 33) (3463,)\n",
      "33\n"
     ]
    }
   ],
   "source": [
    "X_train, X_test, y_train, y_test = train_test_split(vt, label, test_size=0.3, random_state=500) \n",
    "n_feature = X_train.shape[1] \n",
    "print(X_train.shape, y_train.shape, X_test.shape, y_test.shape) \n",
    "print(n_feature)"
   ]
  },
  {
   "cell_type": "code",
   "execution_count": 7,
   "id": "69e11781",
   "metadata": {},
   "outputs": [],
   "source": [
    "embedding_vector_length = 128\n",
    "model = Sequential()\n",
    "model.add(Embedding(vocab_size, embedding_vector_length, input_shape=(n_feature,)))\n",
    "model.add(Dropout(0.2))\n",
    "model.add(LSTM(128))\n",
    "model.add(Dense(128, activation='relu'))\n",
    "model.add(Dropout(0.2))\n",
    "model.add(Dense(1, activation='sigmoid'))"
   ]
  },
  {
   "cell_type": "code",
   "execution_count": 8,
   "id": "aadc0b05",
   "metadata": {},
   "outputs": [
    {
     "name": "stdout",
     "output_type": "stream",
     "text": [
      "Model: \"sequential\"\n",
      "_________________________________________________________________\n",
      " Layer (type)                Output Shape              Param #   \n",
      "=================================================================\n",
      " embedding (Embedding)       (None, 33, 128)           1522944   \n",
      "                                                                 \n",
      " dropout (Dropout)           (None, 33, 128)           0         \n",
      "                                                                 \n",
      " lstm (LSTM)                 (None, 128)               131584    \n",
      "                                                                 \n",
      " dense (Dense)               (None, 128)               16512     \n",
      "                                                                 \n",
      " dropout_1 (Dropout)         (None, 128)               0         \n",
      "                                                                 \n",
      " dense_1 (Dense)             (None, 1)                 129       \n",
      "                                                                 \n",
      "=================================================================\n",
      "Total params: 1,671,169\n",
      "Trainable params: 1,671,169\n",
      "Non-trainable params: 0\n",
      "_________________________________________________________________\n"
     ]
    }
   ],
   "source": [
    "model.summary()"
   ]
  },
  {
   "cell_type": "code",
   "execution_count": 9,
   "id": "fac8452f",
   "metadata": {},
   "outputs": [],
   "source": [
    "opt = tf.keras.optimizers.Adam(learning_rate=0.01)\n",
    "model.compile(optimizer=opt, metrics=['accuracy'], loss=tf.keras.losses.binary_crossentropy)"
   ]
  },
  {
   "cell_type": "code",
   "execution_count": 10,
   "id": "5a73f76f",
   "metadata": {},
   "outputs": [
    {
     "name": "stdout",
     "output_type": "stream",
     "text": [
      "Epoch 1/50\n",
      "253/253 [==============================] - 28s 90ms/step - loss: 0.3589 - accuracy: 0.8571 - val_loss: 0.2236 - val_accuracy: 0.9148\n",
      "Epoch 2/50\n",
      "253/253 [==============================] - 24s 97ms/step - loss: 0.1614 - accuracy: 0.9460 - val_loss: 0.2370 - val_accuracy: 0.9278\n",
      "Epoch 3/50\n",
      "253/253 [==============================] - 25s 100ms/step - loss: 0.0825 - accuracy: 0.9724 - val_loss: 0.2628 - val_accuracy: 0.9215\n",
      "Epoch 4/50\n",
      "253/253 [==============================] - 21s 83ms/step - loss: 0.0453 - accuracy: 0.9858 - val_loss: 0.2815 - val_accuracy: 0.9137\n",
      "Epoch 5/50\n",
      "253/253 [==============================] - 27s 105ms/step - loss: 0.0252 - accuracy: 0.9922 - val_loss: 0.3498 - val_accuracy: 0.9111\n",
      "Epoch 6/50\n",
      "253/253 [==============================] - 22s 88ms/step - loss: 0.0205 - accuracy: 0.9933 - val_loss: 0.3721 - val_accuracy: 0.9160\n",
      "Epoch 7/50\n",
      "253/253 [==============================] - 19s 75ms/step - loss: 0.0217 - accuracy: 0.9939 - val_loss: 0.4216 - val_accuracy: 0.9131\n",
      "Epoch 8/50\n",
      "253/253 [==============================] - 20s 81ms/step - loss: 0.0155 - accuracy: 0.9953 - val_loss: 0.6789 - val_accuracy: 0.9108\n",
      "Epoch 9/50\n",
      "253/253 [==============================] - 24s 94ms/step - loss: 0.0180 - accuracy: 0.9943 - val_loss: 0.5227 - val_accuracy: 0.9053\n",
      "Epoch 10/50\n",
      "253/253 [==============================] - 21s 85ms/step - loss: 0.0157 - accuracy: 0.9939 - val_loss: 0.6564 - val_accuracy: 0.9125\n",
      "Epoch 11/50\n",
      "253/253 [==============================] - 20s 81ms/step - loss: 0.0095 - accuracy: 0.9959 - val_loss: 0.6099 - val_accuracy: 0.9116\n",
      "Epoch 12/50\n",
      "253/253 [==============================] - 21s 83ms/step - loss: 0.0082 - accuracy: 0.9975 - val_loss: 0.5881 - val_accuracy: 0.9096\n",
      "Epoch 13/50\n",
      "253/253 [==============================] - 21s 83ms/step - loss: 0.0062 - accuracy: 0.9973 - val_loss: 0.7680 - val_accuracy: 0.9099\n",
      "Epoch 14/50\n",
      "253/253 [==============================] - 24s 97ms/step - loss: 0.0060 - accuracy: 0.9984 - val_loss: 0.7751 - val_accuracy: 0.9108\n",
      "Epoch 15/50\n",
      "253/253 [==============================] - 21s 83ms/step - loss: 0.0055 - accuracy: 0.9980 - val_loss: 0.6803 - val_accuracy: 0.9113\n",
      "Epoch 16/50\n",
      "253/253 [==============================] - 19s 76ms/step - loss: 0.0123 - accuracy: 0.9960 - val_loss: 0.6470 - val_accuracy: 0.9111\n",
      "Epoch 17/50\n",
      "253/253 [==============================] - 19s 73ms/step - loss: 0.0243 - accuracy: 0.9939 - val_loss: 0.5334 - val_accuracy: 0.9090\n",
      "Epoch 18/50\n",
      "253/253 [==============================] - 19s 74ms/step - loss: 0.0064 - accuracy: 0.9973 - val_loss: 0.8244 - val_accuracy: 0.9131\n",
      "Epoch 19/50\n",
      "253/253 [==============================] - 19s 75ms/step - loss: 0.0105 - accuracy: 0.9964 - val_loss: 0.7795 - val_accuracy: 0.9102\n",
      "Epoch 20/50\n",
      "253/253 [==============================] - 19s 77ms/step - loss: 0.0053 - accuracy: 0.9985 - val_loss: 0.7217 - val_accuracy: 0.9105\n",
      "Epoch 21/50\n",
      "253/253 [==============================] - 19s 76ms/step - loss: 0.0064 - accuracy: 0.9973 - val_loss: 0.9382 - val_accuracy: 0.9108\n",
      "Epoch 22/50\n",
      "253/253 [==============================] - 20s 78ms/step - loss: 0.0104 - accuracy: 0.9969 - val_loss: 0.8343 - val_accuracy: 0.9067\n",
      "Epoch 23/50\n",
      "253/253 [==============================] - 23s 90ms/step - loss: 0.0123 - accuracy: 0.9965 - val_loss: 0.6808 - val_accuracy: 0.9047\n",
      "Epoch 24/50\n",
      "253/253 [==============================] - 21s 82ms/step - loss: 0.0110 - accuracy: 0.9959 - val_loss: 0.6132 - val_accuracy: 0.8940\n",
      "Epoch 25/50\n",
      "253/253 [==============================] - 21s 82ms/step - loss: 0.0103 - accuracy: 0.9972 - val_loss: 0.7572 - val_accuracy: 0.9085\n",
      "Epoch 26/50\n",
      "253/253 [==============================] - 20s 79ms/step - loss: 0.0079 - accuracy: 0.9973 - val_loss: 0.9391 - val_accuracy: 0.9082\n",
      "Epoch 27/50\n",
      "253/253 [==============================] - 20s 78ms/step - loss: 0.0109 - accuracy: 0.9979 - val_loss: 0.9428 - val_accuracy: 0.9139\n",
      "Epoch 28/50\n",
      "253/253 [==============================] - 20s 78ms/step - loss: 0.0101 - accuracy: 0.9976 - val_loss: 0.7049 - val_accuracy: 0.9145\n",
      "Epoch 29/50\n",
      "253/253 [==============================] - 21s 82ms/step - loss: 0.0108 - accuracy: 0.9962 - val_loss: 0.7156 - val_accuracy: 0.9076\n",
      "Epoch 30/50\n",
      "253/253 [==============================] - 20s 81ms/step - loss: 0.0121 - accuracy: 0.9954 - val_loss: 0.7434 - val_accuracy: 0.9165\n",
      "Epoch 31/50\n",
      "253/253 [==============================] - 21s 83ms/step - loss: 0.0089 - accuracy: 0.9970 - val_loss: 0.7549 - val_accuracy: 0.9122\n",
      "Epoch 32/50\n",
      "253/253 [==============================] - 20s 78ms/step - loss: 0.0053 - accuracy: 0.9984 - val_loss: 1.0480 - val_accuracy: 0.9093\n",
      "Epoch 33/50\n",
      "253/253 [==============================] - 21s 85ms/step - loss: 0.0046 - accuracy: 0.9983 - val_loss: 1.0786 - val_accuracy: 0.9113\n",
      "Epoch 34/50\n",
      "253/253 [==============================] - 21s 82ms/step - loss: 0.0117 - accuracy: 0.9973 - val_loss: 0.8439 - val_accuracy: 0.9125\n",
      "Epoch 35/50\n",
      "253/253 [==============================] - 20s 81ms/step - loss: 0.0054 - accuracy: 0.9979 - val_loss: 0.9467 - val_accuracy: 0.9087\n",
      "Epoch 36/50\n",
      "253/253 [==============================] - 20s 80ms/step - loss: 0.0045 - accuracy: 0.9980 - val_loss: 0.9512 - val_accuracy: 0.9105\n",
      "Epoch 37/50\n",
      "253/253 [==============================] - 20s 80ms/step - loss: 0.0071 - accuracy: 0.9973 - val_loss: 0.9432 - val_accuracy: 0.9113\n",
      "Epoch 38/50\n",
      "253/253 [==============================] - 21s 84ms/step - loss: 0.0031 - accuracy: 0.9989 - val_loss: 0.9707 - val_accuracy: 0.9131\n",
      "Epoch 39/50\n",
      "253/253 [==============================] - 21s 83ms/step - loss: 0.0048 - accuracy: 0.9980 - val_loss: 1.0245 - val_accuracy: 0.9085\n",
      "Epoch 40/50\n",
      "253/253 [==============================] - 20s 79ms/step - loss: 0.0060 - accuracy: 0.9980 - val_loss: 0.9110 - val_accuracy: 0.9096\n",
      "Epoch 41/50\n",
      "253/253 [==============================] - 21s 81ms/step - loss: 0.0058 - accuracy: 0.9973 - val_loss: 1.0274 - val_accuracy: 0.9024\n",
      "Epoch 42/50\n",
      "253/253 [==============================] - 21s 83ms/step - loss: 0.0123 - accuracy: 0.9968 - val_loss: 0.6347 - val_accuracy: 0.9062\n",
      "Epoch 43/50\n",
      "253/253 [==============================] - 22s 87ms/step - loss: 0.0079 - accuracy: 0.9972 - val_loss: 1.0200 - val_accuracy: 0.9079\n",
      "Epoch 44/50\n",
      "253/253 [==============================] - 20s 78ms/step - loss: 0.0105 - accuracy: 0.9972 - val_loss: 0.8572 - val_accuracy: 0.8995\n",
      "Epoch 45/50\n",
      "253/253 [==============================] - 22s 88ms/step - loss: 0.0135 - accuracy: 0.9953 - val_loss: 0.6896 - val_accuracy: 0.9041\n",
      "Epoch 46/50\n",
      "253/253 [==============================] - 23s 91ms/step - loss: 0.0086 - accuracy: 0.9973 - val_loss: 0.8522 - val_accuracy: 0.9073\n",
      "Epoch 47/50\n",
      "253/253 [==============================] - 22s 85ms/step - loss: 0.0136 - accuracy: 0.9958 - val_loss: 0.7343 - val_accuracy: 0.9012\n",
      "Epoch 48/50\n",
      "253/253 [==============================] - 24s 94ms/step - loss: 0.0099 - accuracy: 0.9969 - val_loss: 0.7401 - val_accuracy: 0.9047\n",
      "Epoch 49/50\n",
      "253/253 [==============================] - 25s 98ms/step - loss: 0.0053 - accuracy: 0.9981 - val_loss: 0.8043 - val_accuracy: 0.9056\n",
      "Epoch 50/50\n",
      "253/253 [==============================] - 20s 81ms/step - loss: 0.0068 - accuracy: 0.9978 - val_loss: 0.6028 - val_accuracy: 0.9036\n"
     ]
    }
   ],
   "source": [
    "history = model.fit(X_train, y_train, epochs=50, validation_data=(X_test, y_test))"
   ]
  },
  {
   "cell_type": "code",
   "execution_count": 11,
   "id": "46cee0c2",
   "metadata": {},
   "outputs": [
    {
     "name": "stdout",
     "output_type": "stream",
     "text": [
      "109/109 [==============================] - 3s 25ms/step - loss: 0.6028 - accuracy: 0.9036\n",
      "Accuracy: 0.904\n",
      "Loss: 0.603\n"
     ]
    }
   ],
   "source": [
    "loss, acc = model.evaluate(X_test, y_test, verbose=1)\n",
    "print('Accuracy: %.3f' % acc)\n",
    "print('Loss: %.3f' % loss)"
   ]
  },
  {
   "cell_type": "code",
   "execution_count": 15,
   "id": "b9732c64",
   "metadata": {},
   "outputs": [
    {
     "data": {
      "text/plain": [
       "<matplotlib.legend.Legend at 0x200e02435b0>"
      ]
     },
     "execution_count": 15,
     "metadata": {},
     "output_type": "execute_result"
    },
    {
     "data": {
      "image/png": "[encoded data removed]",
      "text/plain": [
       "<Figure size 432x288 with 1 Axes>"
      ]
     },
     "metadata": {
      "needs_background": "light"
     },
     "output_type": "display_data"
    }
   ],
   "source": [
    "plt.plot(history.history['accuracy'], label='accuracy')\n",
    "plt.plot(history.history['loss'], label = 'loss')\n",
    "plt.xlabel('Epoch')\n",
    "plt.ylabel('Accuracy')\n",
    "#plt.ylim(0.6, 1.0)\n",
    "plt.legend(loc='lower right')"
   ]
  },
  {
   "cell_type": "code",
   "execution_count": 13,
   "id": "a44cdc01",
   "metadata": {},
   "outputs": [],
   "source": [
    "def get_encode(x):\n",
    "    encoded_docs = tokenizer.texts_to_sequences(x)\n",
    "    padded_sequence = pad_sequences(encoded_docs, maxlen=n_feature, padding='post')\n",
    "    return padded_sequence\n",
    "\n",
    "def get_encode2(x):\n",
    "    vt = layer(x).numpy()\n",
    "    padded_sequence = pad_sequences(vt, maxlen=n_feature, padding='post')\n",
    "    return padded_sequence"
   ]
  },
  {
   "cell_type": "code",
   "execution_count": 14,
   "id": "49ce5772",
   "metadata": {
    "scrolled": true
   },
   "outputs": [
    {
     "data": {
      "text/plain": [
       "array([[4.3410284e-07],\n",
       "       [7.1875691e-01],\n",
       "       [4.7088408e-01],\n",
       "       [5.3521391e-05]], dtype=float32)"
      ]
     },
     "execution_count": 14,
     "metadata": {},
     "output_type": "execute_result"
    }
   ],
   "source": [
    "x = ['bad sevice is terrible', 'good idea', 'its better food than before', 'right on cue with the delays']\n",
    "vec = get_encode2(x)\n",
    "pred = model.predict(vec)\n",
    "pred"
   ]
  },
  {
   "cell_type": "code",
   "execution_count": null,
   "id": "555d7754",
   "metadata": {},
   "outputs": [],
   "source": []
  }
 ],
 "metadata": {
  "kernelspec": {
   "display_name": "Python 3 (ipykernel)",
   "language": "python",
   "name": "python3"
  },
  "language_info": {
   "codemirror_mode": {
    "name": "ipython",
    "version": 3
   },
   "file_extension": ".py",
   "mimetype": "text/x-python",
   "name": "python",
   "nbconvert_exporter": "python",
   "pygments_lexer": "ipython3",
   "version": "3.9.7"
  }
 },
 "nbformat": 4,
 "nbformat_minor": 5
}
