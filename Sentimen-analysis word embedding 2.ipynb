{
 "cells": [
  {
   "cell_type": "code",
   "execution_count": 1,
   "id": "192c49e8",
   "metadata": {},
   "outputs": [],
   "source": [
    "import tensorflow as tf\n",
    "from keras.models import Sequential\n",
    "from keras.layers import Dense, Dropout, Embedding, LSTM, Bidirectional\n",
    "import numpy as np\n",
    "import pandas as pd\n",
    "import nltk\n",
    "import re\n",
    "from nltk.corpus import stopwords"
   ]
  },
  {
   "cell_type": "code",
   "execution_count": 2,
   "id": "9861fcb3",
   "metadata": {},
   "outputs": [
    {
     "name": "stdout",
     "output_type": "stream",
     "text": [
      "            Id                                             Review  Label\n",
      "30451    30451                        This course is very useful.      5\n",
      "75777    75777  Excellent, clear, simple and brilliant! Simply...      5\n",
      "16845    16845  it was interesting to learn about the dynamics...      5\n",
      "28188    28188  I would like if there was some instructor feed...      4\n",
      "106968  106968  It is perfect for beginners, but if you're an ...      3\n",
      "...        ...                                                ...    ...\n",
      "101005  101005  Fantastic course, with great videos and materi...      5\n",
      "106566  106566  Enjoyed this learning and the peer review of c...      5\n",
      "5680      5680  It was a good Mooc, but I think it should impl...      3\n",
      "51109    51109          Great course. So much useful information.      5\n",
      "65948    65948        Was very Interesting! I learned a lot!! Tks      4\n",
      "\n",
      "[17000 rows x 3 columns]\n",
      "1    15387\n",
      "0     1613\n",
      "Name: Label, dtype: int64\n"
     ]
    }
   ],
   "source": [
    "data = pd.read_csv('coursera_reviews.csv')\n",
    "data = data.sample(frac=1, random_state=50)\n",
    "data = data[:17000]\n",
    "print(data)\n",
    "tweet_df = data[['Review','Label']]\n",
    "label = tweet_df['Label'].apply(lambda x: 0 if x < 4 else 1)\n",
    "print(label.value_counts())\n",
    "tweet = tweet_df['Review'].values\n",
    "num_label = len(set(label))"
   ]
  },
  {
   "cell_type": "code",
   "execution_count": 3,
   "id": "c928b551",
   "metadata": {},
   "outputs": [],
   "source": [
    "from sklearn.preprocessing import LabelEncoder\n",
    "label = LabelEncoder().fit_transform(label)\n",
    "label = tf.keras.utils.to_categorical(label)"
   ]
  },
  {
   "cell_type": "code",
   "execution_count": 4,
   "id": "1b0f94f9",
   "metadata": {},
   "outputs": [],
   "source": [
    "doc = []\n",
    "\n",
    "from nltk.stem import WordNetLemmatizer\n",
    "\n",
    "stemmer = WordNetLemmatizer()\n",
    "\n",
    "for sen in range(0, len(tweet)):\n",
    "    # Remove all the special characters\n",
    "    document = re.sub(r'\\W', ' ', str(tweet[sen]))\n",
    "    \n",
    "    # remove all single characters\n",
    "    document = re.sub(r'\\s+[a-zA-Z]\\s+', ' ', document)\n",
    "    \n",
    "    # Remove single characters from the start\n",
    "    document = re.sub(r'\\^[a-zA-Z]\\s+', ' ', document) \n",
    "    \n",
    "    # Substituting multiple spaces with single space\n",
    "    document = re.sub(r'\\s+', ' ', document, flags=re.I)\n",
    "    \n",
    "    # Removing prefixed 'b'\n",
    "    document = re.sub(r'^b\\s+', '', document)\n",
    "    \n",
    "    # Converting to Lowercase\n",
    "    document = document.lower()\n",
    "    \n",
    "    # Lemmatization & remove Stopword\n",
    "    document = document.split()\n",
    "    \n",
    "    swords = set(stopwords.words(\"english\"))\n",
    "    document = [w for w in document if w not in swords]\n",
    "\n",
    "    document = [stemmer.lemmatize(word) for word in document]\n",
    "    document = ' '.join(document)\n",
    "    \n",
    "    doc.append(document)"
   ]
  },
  {
   "cell_type": "markdown",
   "id": "e97af7bb",
   "metadata": {},
   "source": [
    "## Fungsi Word Embedding"
   ]
  },
  {
   "cell_type": "code",
   "execution_count": 5,
   "id": "9ee6962c",
   "metadata": {},
   "outputs": [],
   "source": [
    "def create_embedding_matrix(filepath, word_index, embedding_dim):\n",
    "    vocab_size = len(word_index) + 1  # Adding again 1 because of reserved 0 index\n",
    "    embedding_matrix = np.zeros((vocab_size, embedding_dim))\n",
    "\n",
    "    with open(filepath, encoding=\"utf8\") as f:\n",
    "        for line in f:\n",
    "            word, *vector = line.split()\n",
    "            if word in word_index:\n",
    "                idx = word_index[word] \n",
    "                embedding_matrix[idx] = np.array(\n",
    "                    vector, dtype=np.float32)[:embedding_dim]\n",
    "\n",
    "    return embedding_matrix"
   ]
  },
  {
   "cell_type": "code",
   "execution_count": 6,
   "id": "0eb5dbca",
   "metadata": {},
   "outputs": [
    {
     "data": {
      "text/plain": [
       "array([[ 2, 17,  0, ...,  0,  0,  0],\n",
       "       [ 9, 45, 96, ...,  0,  0,  0],\n",
       "       [10, 12,  1, ...,  0,  0,  0],\n",
       "       ...,\n",
       "       [ 4,  1, 62, ...,  0,  0,  0],\n",
       "       [ 3,  2, 14, ...,  0,  0,  0],\n",
       "       [10, 31,  8, ...,  0,  0,  0]], dtype=int64)"
      ]
     },
     "execution_count": 6,
     "metadata": {},
     "output_type": "execute_result"
    }
   ],
   "source": [
    "from tensorflow.keras.preprocessing.text import Tokenizer\n",
    "from tensorflow.keras.preprocessing.sequence import pad_sequences\n",
    "\n",
    "tokenizer = Tokenizer(num_words=500)\n",
    "tokenizer.fit_on_texts(doc)\n",
    "\n",
    "layer = tf.keras.layers.TextVectorization(max_tokens=200, output_sequence_length=50)\n",
    "layer.adapt(doc, batch_size=64)\n",
    "vt = layer(doc).numpy()\n",
    "vt"
   ]
  },
  {
   "cell_type": "code",
   "execution_count": 58,
   "id": "75c91432",
   "metadata": {},
   "outputs": [
    {
     "name": "stdout",
     "output_type": "stream",
     "text": [
      "(11900, 50) (11900, 2) (5100, 50) (5100, 2)\n",
      "50\n"
     ]
    }
   ],
   "source": [
    "from sklearn.model_selection import train_test_split \n",
    "X_train, X_test, y_train, y_test = train_test_split(vt, label, test_size=0.3, random_state=50) \n",
    "n_feature = X_train.shape[1] \n",
    "print(X_train.shape, y_train.shape, X_test.shape, y_test.shape) \n",
    "print(n_feature)"
   ]
  },
  {
   "cell_type": "code",
   "execution_count": 59,
   "id": "14a6c7fa",
   "metadata": {},
   "outputs": [],
   "source": [
    "embedding_dim = 50\n",
    "embedding_matrix = create_embedding_matrix('data/glove.twitter.27B.50d.txt', tokenizer.word_index, embedding_dim)"
   ]
  },
  {
   "cell_type": "markdown",
   "id": "b96841d0",
   "metadata": {},
   "source": [
    "## check"
   ]
  },
  {
   "cell_type": "code",
   "execution_count": 60,
   "id": "61776981",
   "metadata": {},
   "outputs": [
    {
     "data": {
      "text/plain": [
       "0.8465885481592288"
      ]
     },
     "execution_count": 60,
     "metadata": {},
     "output_type": "execute_result"
    }
   ],
   "source": [
    "vocab_size = len(tokenizer.word_index) + 1\n",
    "nonzero_elements = np.count_nonzero(np.count_nonzero(embedding_matrix, axis=1))\n",
    "nonzero_elements / vocab_size"
   ]
  },
  {
   "cell_type": "code",
   "execution_count": 65,
   "id": "52b59a47",
   "metadata": {},
   "outputs": [],
   "source": [
    "model = Sequential()\n",
    "model.add(Embedding(vocab_size, embedding_dim, weights=[embedding_matrix], trainable=True, input_shape=(n_feature,)))\n",
    "#model.add(Dropout(0.3))\n",
    "#forward_layer = LSTM(64, return_sequences=True)\n",
    "#backward_layer = LSTM(64, activation='relu', return_sequences=True, go_backwards=True)\n",
    "#model.add(Bidirectional(forward_layer, backward_layer=backward_layer))\n",
    "model.add(Bidirectional(LSTM(64, return_sequences=True)))\n",
    "model.add(Dropout(0.5))\n",
    "model.add(Bidirectional(LSTM(128)))\n",
    "model.add(Dropout(0.3))\n",
    "model.add(Dense(64, activation='relu'))\n",
    "model.add(Dense(32, activation='relu'))\n",
    "#model.add(Dropout(0.3))\n",
    "model.add(Dense(num_label, activation='softmax'))"
   ]
  },
  {
   "cell_type": "code",
   "execution_count": 66,
   "id": "af10f8fb",
   "metadata": {},
   "outputs": [
    {
     "name": "stdout",
     "output_type": "stream",
     "text": [
      "Model: \"sequential_19\"\n",
      "_________________________________________________________________\n",
      " Layer (type)                Output Shape              Param #   \n",
      "=================================================================\n",
      " embedding_9 (Embedding)     (None, 50, 50)            601650    \n",
      "                                                                 \n",
      " bidirectional_20 (Bidirecti  (None, 50, 128)          58880     \n",
      " onal)                                                           \n",
      "                                                                 \n",
      " dropout_14 (Dropout)        (None, 50, 128)           0         \n",
      "                                                                 \n",
      " bidirectional_21 (Bidirecti  (None, 256)              263168    \n",
      " onal)                                                           \n",
      "                                                                 \n",
      " dropout_15 (Dropout)        (None, 256)               0         \n",
      "                                                                 \n",
      " dense_51 (Dense)            (None, 64)                16448     \n",
      "                                                                 \n",
      " dense_52 (Dense)            (None, 32)                2080      \n",
      "                                                                 \n",
      " dense_53 (Dense)            (None, 2)                 66        \n",
      "                                                                 \n",
      "=================================================================\n",
      "Total params: 942,292\n",
      "Trainable params: 942,292\n",
      "Non-trainable params: 0\n",
      "_________________________________________________________________\n"
     ]
    }
   ],
   "source": [
    "model.summary()"
   ]
  },
  {
   "cell_type": "code",
   "execution_count": 67,
   "id": "d8e9d7a6",
   "metadata": {},
   "outputs": [],
   "source": [
    "opt = tf.keras.optimizers.Adam(learning_rate=0.01)\n",
    "model.compile(optimizer=opt, loss= tf.keras.losses.binary_crossentropy, metrics=['accuracy', tf.keras.metrics.Precision(), tf.keras.metrics.Recall()])"
   ]
  },
  {
   "cell_type": "code",
   "execution_count": 68,
   "id": "bee992b2",
   "metadata": {
    "scrolled": false
   },
   "outputs": [
    {
     "name": "stdout",
     "output_type": "stream",
     "text": [
      "Epoch 1/20\n",
      "372/372 [==============================] - 60s 146ms/step - loss: 0.2689 - accuracy: 0.9008 - precision_7: 0.9008 - recall_7: 0.9008 - val_loss: 0.2245 - val_accuracy: 0.9135 - val_precision_7: 0.9135 - val_recall_7: 0.9135\n",
      "Epoch 2/20\n",
      "372/372 [==============================] - 58s 156ms/step - loss: 0.2270 - accuracy: 0.9039 - precision_7: 0.9039 - recall_7: 0.9039 - val_loss: 0.2247 - val_accuracy: 0.9116 - val_precision_7: 0.9116 - val_recall_7: 0.9116\n",
      "Epoch 3/20\n",
      "372/372 [==============================] - 56s 150ms/step - loss: 0.2183 - accuracy: 0.9056 - precision_7: 0.9056 - recall_7: 0.9056 - val_loss: 0.2213 - val_accuracy: 0.9102 - val_precision_7: 0.9102 - val_recall_7: 0.9102\n",
      "Epoch 4/20\n",
      "372/372 [==============================] - 56s 150ms/step - loss: 0.2133 - accuracy: 0.9061 - precision_7: 0.9061 - recall_7: 0.9061 - val_loss: 0.2155 - val_accuracy: 0.9190 - val_precision_7: 0.9190 - val_recall_7: 0.9190\n",
      "Epoch 5/20\n",
      "372/372 [==============================] - 56s 152ms/step - loss: 0.2073 - accuracy: 0.9131 - precision_7: 0.9131 - recall_7: 0.9131 - val_loss: 0.2275 - val_accuracy: 0.9153 - val_precision_7: 0.9153 - val_recall_7: 0.9153\n",
      "Epoch 6/20\n",
      "372/372 [==============================] - 56s 151ms/step - loss: 0.2060 - accuracy: 0.9144 - precision_7: 0.9144 - recall_7: 0.9144 - val_loss: 0.2113 - val_accuracy: 0.9182 - val_precision_7: 0.9182 - val_recall_7: 0.9182\n",
      "Epoch 7/20\n",
      "372/372 [==============================] - 63s 170ms/step - loss: 0.2044 - accuracy: 0.9139 - precision_7: 0.9139 - recall_7: 0.9139 - val_loss: 0.2121 - val_accuracy: 0.9192 - val_precision_7: 0.9192 - val_recall_7: 0.9192\n",
      "Epoch 8/20\n",
      "372/372 [==============================] - 59s 158ms/step - loss: 0.2022 - accuracy: 0.9172 - precision_7: 0.9172 - recall_7: 0.9172 - val_loss: 0.2234 - val_accuracy: 0.9045 - val_precision_7: 0.9045 - val_recall_7: 0.9045\n",
      "Epoch 9/20\n",
      "372/372 [==============================] - 56s 150ms/step - loss: 0.2012 - accuracy: 0.9157 - precision_7: 0.9157 - recall_7: 0.9157 - val_loss: 0.2219 - val_accuracy: 0.9069 - val_precision_7: 0.9069 - val_recall_7: 0.9069\n",
      "Epoch 10/20\n",
      "372/372 [==============================] - 59s 159ms/step - loss: 0.1974 - accuracy: 0.9165 - precision_7: 0.9165 - recall_7: 0.9165 - val_loss: 0.2180 - val_accuracy: 0.9129 - val_precision_7: 0.9129 - val_recall_7: 0.9129\n",
      "Epoch 11/20\n",
      "372/372 [==============================] - 62s 166ms/step - loss: 0.1996 - accuracy: 0.9177 - precision_7: 0.9177 - recall_7: 0.9177 - val_loss: 0.2248 - val_accuracy: 0.9133 - val_precision_7: 0.9133 - val_recall_7: 0.9133\n",
      "Epoch 12/20\n",
      "372/372 [==============================] - 61s 164ms/step - loss: 0.1963 - accuracy: 0.9186 - precision_7: 0.9186 - recall_7: 0.9186 - val_loss: 0.2198 - val_accuracy: 0.9098 - val_precision_7: 0.9098 - val_recall_7: 0.9098\n",
      "Epoch 13/20\n",
      "372/372 [==============================] - 68s 183ms/step - loss: 0.1940 - accuracy: 0.9218 - precision_7: 0.9218 - recall_7: 0.9218 - val_loss: 0.2116 - val_accuracy: 0.9161 - val_precision_7: 0.9161 - val_recall_7: 0.9161\n",
      "Epoch 14/20\n",
      "372/372 [==============================] - 64s 172ms/step - loss: 0.1975 - accuracy: 0.9203 - precision_7: 0.9203 - recall_7: 0.9203 - val_loss: 0.2167 - val_accuracy: 0.9061 - val_precision_7: 0.9061 - val_recall_7: 0.9061\n",
      "Epoch 15/20\n",
      "372/372 [==============================] - 58s 155ms/step - loss: 0.2046 - accuracy: 0.9172 - precision_7: 0.9172 - recall_7: 0.9172 - val_loss: 0.2240 - val_accuracy: 0.9151 - val_precision_7: 0.9151 - val_recall_7: 0.9151\n",
      "Epoch 16/20\n",
      "372/372 [==============================] - 68s 183ms/step - loss: 0.2043 - accuracy: 0.9129 - precision_7: 0.9129 - recall_7: 0.9129 - val_loss: 0.2226 - val_accuracy: 0.9129 - val_precision_7: 0.9129 - val_recall_7: 0.9129\n",
      "Epoch 17/20\n",
      "372/372 [==============================] - 62s 167ms/step - loss: 0.2066 - accuracy: 0.9121 - precision_7: 0.9121 - recall_7: 0.9121 - val_loss: 0.2215 - val_accuracy: 0.9122 - val_precision_7: 0.9122 - val_recall_7: 0.9122\n",
      "Epoch 18/20\n",
      "372/372 [==============================] - 59s 159ms/step - loss: 0.2035 - accuracy: 0.9153 - precision_7: 0.9153 - recall_7: 0.9153 - val_loss: 0.2155 - val_accuracy: 0.9135 - val_precision_7: 0.9135 - val_recall_7: 0.9135\n",
      "Epoch 19/20\n",
      "372/372 [==============================] - 59s 160ms/step - loss: 0.2021 - accuracy: 0.9155 - precision_7: 0.9155 - recall_7: 0.9155 - val_loss: 0.2164 - val_accuracy: 0.9153 - val_precision_7: 0.9153 - val_recall_7: 0.9153\n",
      "Epoch 20/20\n",
      "372/372 [==============================] - 63s 169ms/step - loss: 0.2022 - accuracy: 0.9141 - precision_7: 0.9141 - recall_7: 0.9141 - val_loss: 0.2255 - val_accuracy: 0.8986 - val_precision_7: 0.8986 - val_recall_7: 0.8986\n"
     ]
    }
   ],
   "source": [
    "#es = tf.keras.callbacks.EarlyStopping(monitor='val_accuracy', mode='max', min_delta=1)\n",
    "history = model.fit(X_train, y_train, epochs=20, validation_data=(X_test, y_test))"
   ]
  },
  {
   "cell_type": "code",
   "execution_count": 69,
   "id": "8d51addc",
   "metadata": {},
   "outputs": [
    {
     "name": "stdout",
     "output_type": "stream",
     "text": [
      "160/160 [==============================] - 4s 28ms/step - loss: 0.2255 - accuracy: 0.8986 - precision_7: 0.8986 - recall_7: 0.8986\n",
      "Loss: 0.2255\n",
      "Accuracy: 0.8986\n",
      "Precision: 0.8986\n",
      "Recall: 0.8986\n",
      "F1-Score: 0.8986\n"
     ]
    }
   ],
   "source": [
    "loss, acc, prec, rec = model.evaluate(X_test, y_test, verbose=1)\n",
    "f1 = 2*prec*rec/(prec+rec)\n",
    "print('Loss: %.4f' % loss)\n",
    "print('Accuracy: %.4f' % acc)\n",
    "print('Precision: %.4f' % prec)\n",
    "print('Recall: %.4f' % rec)\n",
    "print('F1-Score: %.4f' % f1)"
   ]
  },
  {
   "cell_type": "code",
   "execution_count": 70,
   "id": "0b0d3cd9",
   "metadata": {},
   "outputs": [
    {
     "data": {
      "text/plain": [
       "<matplotlib.legend.Legend at 0x1eb0dac9790>"
      ]
     },
     "execution_count": 70,
     "metadata": {},
     "output_type": "execute_result"
    },
    {
     "data": {
      "image/png": "[encoded data removed]",
      "text/plain": [
       "<Figure size 432x288 with 1 Axes>"
      ]
     },
     "metadata": {
      "needs_background": "light"
     },
     "output_type": "display_data"
    }
   ],
   "source": [
    "import matplotlib.pyplot as plt\n",
    "plt.plot(history.history['accuracy'], label='accuracy')\n",
    "plt.plot(history.history['val_accuracy'], label = 'val_accuracy')\n",
    "plt.xlabel('Epoch')\n",
    "plt.ylabel('Accuracy')\n",
    "#plt.ylim(0.6, 1.0)\n",
    "plt.legend(loc='lower right')"
   ]
  },
  {
   "cell_type": "code",
   "execution_count": 71,
   "id": "50ae011a",
   "metadata": {},
   "outputs": [],
   "source": [
    "from tensorflow.keras.preprocessing.sequence import pad_sequences\n",
    "\n",
    "def get_encode2(x):\n",
    "    vt = layer(x).numpy()\n",
    "    padded_sequence = pad_sequences(vt, maxlen=n_feature, padding='post')\n",
    "    return padded_sequence"
   ]
  },
  {
   "cell_type": "code",
   "execution_count": 76,
   "id": "1f18c00e",
   "metadata": {},
   "outputs": [
    {
     "name": "stdout",
     "output_type": "stream",
     "text": [
      "[[0.55610645 0.44389352]]\n",
      "Bad\n"
     ]
    }
   ],
   "source": [
    "x = ['This course is bad and teacher also bad and bored']\n",
    "vec = get_encode2(x)\n",
    "pred = model.predict(vec)\n",
    "print(pred)\n",
    "print(\"Bad\" if np.argmax(pred) == 0 else \"Good\")"
   ]
  },
  {
   "cell_type": "code",
   "execution_count": 6,
   "id": "31d1c71b",
   "metadata": {},
   "outputs": [
    {
     "name": "stdout",
     "output_type": "stream",
     "text": [
      "1\n",
      "22\n",
      "333\n",
      "4444\n",
      "55555\n"
     ]
    }
   ],
   "source": [
    "for i in range(1, 6):\n",
    "    print(str(i)* i)"
   ]
  },
  {
   "cell_type": "code",
   "execution_count": null,
   "id": "95bb903b",
   "metadata": {},
   "outputs": [],
   "source": []
  }
 ],
 "metadata": {
  "kernelspec": {
   "display_name": "Python 3 (ipykernel)",
   "language": "python",
   "name": "python3"
  },
  "language_info": {
   "codemirror_mode": {
    "name": "ipython",
    "version": 3
   },
   "file_extension": ".py",
   "mimetype": "text/x-python",
   "name": "python",
   "nbconvert_exporter": "python",
   "pygments_lexer": "ipython3",
   "version": "3.9.7"
  }
 },
 "nbformat": 4,
 "nbformat_minor": 5
}
