{
 "cells": [
  {
   "cell_type": "code",
   "execution_count": 1,
   "id": "f77f0189",
   "metadata": {},
   "outputs": [],
   "source": [
    "import seaborn as sns\n",
    "import numpy as np\n",
    "from sklearn.model_selection import train_test_split\n",
    "import tensorflow as tf\n",
    "from keras.models import Sequential\n",
    "from keras.layers import Dense, Dropout, Flatten, Activation, Conv2D\n",
    "from sklearn.preprocessing import LabelEncoder"
   ]
  },
  {
   "cell_type": "code",
   "execution_count": 2,
   "id": "95166802",
   "metadata": {},
   "outputs": [
    {
     "data": {
      "text/html": [
       "<div>\n",
       "<style scoped>\n",
       "    .dataframe tbody tr th:only-of-type {\n",
       "        vertical-align: middle;\n",
       "    }\n",
       "\n",
       "    .dataframe tbody tr th {\n",
       "        vertical-align: top;\n",
       "    }\n",
       "\n",
       "    .dataframe thead th {\n",
       "        text-align: right;\n",
       "    }\n",
       "</style>\n",
       "<table border=\"1\" class=\"dataframe\">\n",
       "  <thead>\n",
       "    <tr style=\"text-align: right;\">\n",
       "      <th></th>\n",
       "      <th>sepal_length</th>\n",
       "      <th>sepal_width</th>\n",
       "      <th>petal_length</th>\n",
       "      <th>petal_width</th>\n",
       "      <th>species</th>\n",
       "    </tr>\n",
       "  </thead>\n",
       "  <tbody>\n",
       "    <tr>\n",
       "      <th>0</th>\n",
       "      <td>5.1</td>\n",
       "      <td>3.5</td>\n",
       "      <td>1.4</td>\n",
       "      <td>0.2</td>\n",
       "      <td>setosa</td>\n",
       "    </tr>\n",
       "    <tr>\n",
       "      <th>1</th>\n",
       "      <td>4.9</td>\n",
       "      <td>3.0</td>\n",
       "      <td>1.4</td>\n",
       "      <td>0.2</td>\n",
       "      <td>setosa</td>\n",
       "    </tr>\n",
       "    <tr>\n",
       "      <th>2</th>\n",
       "      <td>4.7</td>\n",
       "      <td>3.2</td>\n",
       "      <td>1.3</td>\n",
       "      <td>0.2</td>\n",
       "      <td>setosa</td>\n",
       "    </tr>\n",
       "    <tr>\n",
       "      <th>3</th>\n",
       "      <td>4.6</td>\n",
       "      <td>3.1</td>\n",
       "      <td>1.5</td>\n",
       "      <td>0.2</td>\n",
       "      <td>setosa</td>\n",
       "    </tr>\n",
       "    <tr>\n",
       "      <th>4</th>\n",
       "      <td>5.0</td>\n",
       "      <td>3.6</td>\n",
       "      <td>1.4</td>\n",
       "      <td>0.2</td>\n",
       "      <td>setosa</td>\n",
       "    </tr>\n",
       "  </tbody>\n",
       "</table>\n",
       "</div>"
      ],
      "text/plain": [
       "   sepal_length  sepal_width  petal_length  petal_width species\n",
       "0           5.1          3.5           1.4          0.2  setosa\n",
       "1           4.9          3.0           1.4          0.2  setosa\n",
       "2           4.7          3.2           1.3          0.2  setosa\n",
       "3           4.6          3.1           1.5          0.2  setosa\n",
       "4           5.0          3.6           1.4          0.2  setosa"
      ]
     },
     "execution_count": 2,
     "metadata": {},
     "output_type": "execute_result"
    }
   ],
   "source": [
    "data = sns.load_dataset('iris')\n",
    "data.head()"
   ]
  },
  {
   "cell_type": "code",
   "execution_count": 3,
   "id": "a6745e04",
   "metadata": {},
   "outputs": [
    {
     "data": {
      "text/html": [
       "<div>\n",
       "<style scoped>\n",
       "    .dataframe tbody tr th:only-of-type {\n",
       "        vertical-align: middle;\n",
       "    }\n",
       "\n",
       "    .dataframe tbody tr th {\n",
       "        vertical-align: top;\n",
       "    }\n",
       "\n",
       "    .dataframe thead th {\n",
       "        text-align: right;\n",
       "    }\n",
       "</style>\n",
       "<table border=\"1\" class=\"dataframe\">\n",
       "  <thead>\n",
       "    <tr style=\"text-align: right;\">\n",
       "      <th></th>\n",
       "      <th>sepal_length</th>\n",
       "      <th>sepal_width</th>\n",
       "      <th>petal_length</th>\n",
       "      <th>petal_width</th>\n",
       "    </tr>\n",
       "  </thead>\n",
       "  <tbody>\n",
       "    <tr>\n",
       "      <th>count</th>\n",
       "      <td>150.000000</td>\n",
       "      <td>150.000000</td>\n",
       "      <td>150.000000</td>\n",
       "      <td>150.000000</td>\n",
       "    </tr>\n",
       "    <tr>\n",
       "      <th>mean</th>\n",
       "      <td>5.843333</td>\n",
       "      <td>3.057333</td>\n",
       "      <td>3.758000</td>\n",
       "      <td>1.199333</td>\n",
       "    </tr>\n",
       "    <tr>\n",
       "      <th>std</th>\n",
       "      <td>0.828066</td>\n",
       "      <td>0.435866</td>\n",
       "      <td>1.765298</td>\n",
       "      <td>0.762238</td>\n",
       "    </tr>\n",
       "    <tr>\n",
       "      <th>min</th>\n",
       "      <td>4.300000</td>\n",
       "      <td>2.000000</td>\n",
       "      <td>1.000000</td>\n",
       "      <td>0.100000</td>\n",
       "    </tr>\n",
       "    <tr>\n",
       "      <th>25%</th>\n",
       "      <td>5.100000</td>\n",
       "      <td>2.800000</td>\n",
       "      <td>1.600000</td>\n",
       "      <td>0.300000</td>\n",
       "    </tr>\n",
       "    <tr>\n",
       "      <th>50%</th>\n",
       "      <td>5.800000</td>\n",
       "      <td>3.000000</td>\n",
       "      <td>4.350000</td>\n",
       "      <td>1.300000</td>\n",
       "    </tr>\n",
       "    <tr>\n",
       "      <th>75%</th>\n",
       "      <td>6.400000</td>\n",
       "      <td>3.300000</td>\n",
       "      <td>5.100000</td>\n",
       "      <td>1.800000</td>\n",
       "    </tr>\n",
       "    <tr>\n",
       "      <th>max</th>\n",
       "      <td>7.900000</td>\n",
       "      <td>4.400000</td>\n",
       "      <td>6.900000</td>\n",
       "      <td>2.500000</td>\n",
       "    </tr>\n",
       "  </tbody>\n",
       "</table>\n",
       "</div>"
      ],
      "text/plain": [
       "       sepal_length  sepal_width  petal_length  petal_width\n",
       "count    150.000000   150.000000    150.000000   150.000000\n",
       "mean       5.843333     3.057333      3.758000     1.199333\n",
       "std        0.828066     0.435866      1.765298     0.762238\n",
       "min        4.300000     2.000000      1.000000     0.100000\n",
       "25%        5.100000     2.800000      1.600000     0.300000\n",
       "50%        5.800000     3.000000      4.350000     1.300000\n",
       "75%        6.400000     3.300000      5.100000     1.800000\n",
       "max        7.900000     4.400000      6.900000     2.500000"
      ]
     },
     "execution_count": 3,
     "metadata": {},
     "output_type": "execute_result"
    }
   ],
   "source": [
    "data.describe()"
   ]
  },
  {
   "cell_type": "code",
   "execution_count": 50,
   "id": "c241c276",
   "metadata": {},
   "outputs": [
    {
     "name": "stdout",
     "output_type": "stream",
     "text": [
      "(array([0, 0, 0, 0, 0, 0, 0, 0, 0, 0, 0, 0, 0, 0, 0, 0, 0, 0, 0, 0, 0, 0,\n",
      "       0, 0, 0, 0, 0, 0, 0, 0, 0, 0, 0, 0, 0, 0, 0, 0, 0, 0, 0, 0, 0, 0,\n",
      "       0, 0, 0, 0, 0, 0, 1, 1, 1, 1, 1, 1, 1, 1, 1, 1, 1, 1, 1, 1, 1, 1,\n",
      "       1, 1, 1, 1, 1, 1, 1, 1, 1, 1, 1, 1, 1, 1, 1, 1, 1, 1, 1, 1, 1, 1,\n",
      "       1, 1, 1, 1, 1, 1, 1, 1, 1, 1, 1, 1, 2, 2, 2, 2, 2, 2, 2, 2, 2, 2,\n",
      "       2, 2, 2, 2, 2, 2, 2, 2, 2, 2, 2, 2, 2, 2, 2, 2, 2, 2, 2, 2, 2, 2,\n",
      "       2, 2, 2, 2, 2, 2, 2, 2, 2, 2, 2, 2, 2, 2, 2, 2, 2, 2], dtype=int64), Index(['setosa', 'versicolor', 'virginica'], dtype='object'))\n"
     ]
    }
   ],
   "source": [
    "X = data.drop('species', axis=1)\n",
    "y = data['species']\n",
    "print(y.factorize())\n",
    "X = X.astype('float32')\n",
    "y = LabelEncoder().fit_transform(y)"
   ]
  },
  {
   "cell_type": "code",
   "execution_count": 5,
   "id": "f6230bc0",
   "metadata": {},
   "outputs": [
    {
     "name": "stdout",
     "output_type": "stream",
     "text": [
      "(105, 4) (105,) (45, 4) (45,)\n"
     ]
    }
   ],
   "source": [
    "X_train, X_test, y_train, y_test = train_test_split(X, y, test_size=0.3)\n",
    "n_feature = X_train.shape[1]\n",
    "print(X_train.shape, y_train.shape, X_test.shape, y_test.shape)"
   ]
  },
  {
   "cell_type": "code",
   "execution_count": 6,
   "id": "1bffbb29",
   "metadata": {},
   "outputs": [],
   "source": [
    "model = Sequential()\n",
    "model.add(Dense(32, activation='relu', input_shape=(n_feature,)))\n",
    "model.add(Dropout(0.2))\n",
    "model.add(Dense(16, activation='relu'))\n",
    "model.add(Dense(3, activation='softmax'))"
   ]
  },
  {
   "cell_type": "code",
   "execution_count": 7,
   "id": "7c434504",
   "metadata": {},
   "outputs": [
    {
     "name": "stdout",
     "output_type": "stream",
     "text": [
      "Model: \"sequential\"\n",
      "_________________________________________________________________\n",
      " Layer (type)                Output Shape              Param #   \n",
      "=================================================================\n",
      " dense (Dense)               (None, 32)                160       \n",
      "                                                                 \n",
      " dropout (Dropout)           (None, 32)                0         \n",
      "                                                                 \n",
      " dense_1 (Dense)             (None, 16)                528       \n",
      "                                                                 \n",
      " dense_2 (Dense)             (None, 3)                 51        \n",
      "                                                                 \n",
      "=================================================================\n",
      "Total params: 739\n",
      "Trainable params: 739\n",
      "Non-trainable params: 0\n",
      "_________________________________________________________________\n"
     ]
    }
   ],
   "source": [
    "model.summary()"
   ]
  },
  {
   "cell_type": "code",
   "execution_count": 8,
   "id": "847275ab",
   "metadata": {},
   "outputs": [],
   "source": [
    "opt = tf.keras.optimizers.Adam(learning_rate=0.01)\n",
    "model.compile(loss=tf.keras.losses.sparse_categorical_crossentropy, optimizer=opt, metrics=['accuracy'])"
   ]
  },
  {
   "cell_type": "code",
   "execution_count": 9,
   "id": "d5865da1",
   "metadata": {},
   "outputs": [
    {
     "name": "stdout",
     "output_type": "stream",
     "text": [
      "Epoch 1/50\n",
      "4/4 [==============================] - 1s 68ms/step - loss: 3.2626 - accuracy: 0.2952 - val_loss: 0.9668 - val_accuracy: 0.7333\n",
      "Epoch 2/50\n",
      "4/4 [==============================] - 0s 17ms/step - loss: 1.1397 - accuracy: 0.4095 - val_loss: 1.0936 - val_accuracy: 0.2444\n",
      "Epoch 3/50\n",
      "4/4 [==============================] - 0s 14ms/step - loss: 1.1479 - accuracy: 0.4190 - val_loss: 1.0715 - val_accuracy: 0.2444\n",
      "Epoch 4/50\n",
      "4/4 [==============================] - 0s 15ms/step - loss: 0.9213 - accuracy: 0.4762 - val_loss: 0.8753 - val_accuracy: 0.6667\n",
      "Epoch 5/50\n",
      "4/4 [==============================] - 0s 14ms/step - loss: 0.8437 - accuracy: 0.5810 - val_loss: 0.6271 - val_accuracy: 0.7556\n",
      "Epoch 6/50\n",
      "4/4 [==============================] - 0s 15ms/step - loss: 0.6488 - accuracy: 0.7143 - val_loss: 0.5395 - val_accuracy: 0.6667\n",
      "Epoch 7/50\n",
      "4/4 [==============================] - 0s 14ms/step - loss: 0.6426 - accuracy: 0.6667 - val_loss: 0.4424 - val_accuracy: 1.0000\n",
      "Epoch 8/50\n",
      "4/4 [==============================] - 0s 15ms/step - loss: 0.5302 - accuracy: 0.7714 - val_loss: 0.3819 - val_accuracy: 0.8444\n",
      "Epoch 9/50\n",
      "4/4 [==============================] - 0s 14ms/step - loss: 0.4583 - accuracy: 0.8476 - val_loss: 0.3161 - val_accuracy: 0.9778\n",
      "Epoch 10/50\n",
      "4/4 [==============================] - 0s 14ms/step - loss: 0.4873 - accuracy: 0.7524 - val_loss: 0.2700 - val_accuracy: 1.0000\n",
      "Epoch 11/50\n",
      "4/4 [==============================] - 0s 14ms/step - loss: 0.4101 - accuracy: 0.8476 - val_loss: 0.2406 - val_accuracy: 0.9556\n",
      "Epoch 12/50\n",
      "4/4 [==============================] - 0s 16ms/step - loss: 0.4204 - accuracy: 0.7905 - val_loss: 0.2375 - val_accuracy: 0.9556\n",
      "Epoch 13/50\n",
      "4/4 [==============================] - 0s 14ms/step - loss: 0.3076 - accuracy: 0.8667 - val_loss: 0.2031 - val_accuracy: 0.9556\n",
      "Epoch 14/50\n",
      "4/4 [==============================] - 0s 15ms/step - loss: 0.2615 - accuracy: 0.9238 - val_loss: 0.1902 - val_accuracy: 0.9556\n",
      "Epoch 15/50\n",
      "4/4 [==============================] - 0s 15ms/step - loss: 0.2164 - accuracy: 0.9333 - val_loss: 0.1660 - val_accuracy: 1.0000\n",
      "Epoch 16/50\n",
      "4/4 [==============================] - 0s 14ms/step - loss: 0.2410 - accuracy: 0.9238 - val_loss: 0.1550 - val_accuracy: 1.0000\n",
      "Epoch 17/50\n",
      "4/4 [==============================] - 0s 14ms/step - loss: 0.2260 - accuracy: 0.9238 - val_loss: 0.1590 - val_accuracy: 0.9556\n",
      "Epoch 18/50\n",
      "4/4 [==============================] - 0s 14ms/step - loss: 0.2170 - accuracy: 0.9143 - val_loss: 0.1423 - val_accuracy: 1.0000\n",
      "Epoch 19/50\n",
      "4/4 [==============================] - 0s 15ms/step - loss: 0.2600 - accuracy: 0.8952 - val_loss: 0.1358 - val_accuracy: 1.0000\n",
      "Epoch 20/50\n",
      "4/4 [==============================] - 0s 15ms/step - loss: 0.2513 - accuracy: 0.8952 - val_loss: 0.1180 - val_accuracy: 1.0000\n",
      "Epoch 21/50\n",
      "4/4 [==============================] - 0s 16ms/step - loss: 0.2441 - accuracy: 0.9429 - val_loss: 0.1212 - val_accuracy: 1.0000\n",
      "Epoch 22/50\n",
      "4/4 [==============================] - 0s 15ms/step - loss: 0.1975 - accuracy: 0.9143 - val_loss: 0.1415 - val_accuracy: 0.9556\n",
      "Epoch 23/50\n",
      "4/4 [==============================] - 0s 13ms/step - loss: 0.2183 - accuracy: 0.8762 - val_loss: 0.1315 - val_accuracy: 0.9778\n",
      "Epoch 24/50\n",
      "4/4 [==============================] - 0s 15ms/step - loss: 0.2396 - accuracy: 0.9143 - val_loss: 0.1055 - val_accuracy: 0.9556\n",
      "Epoch 25/50\n",
      "4/4 [==============================] - 0s 15ms/step - loss: 0.1777 - accuracy: 0.9238 - val_loss: 0.1124 - val_accuracy: 0.9556\n",
      "Epoch 26/50\n",
      "4/4 [==============================] - 0s 14ms/step - loss: 0.1541 - accuracy: 0.9429 - val_loss: 0.1260 - val_accuracy: 0.9778\n",
      "Epoch 27/50\n",
      "4/4 [==============================] - 0s 16ms/step - loss: 0.2125 - accuracy: 0.9333 - val_loss: 0.0884 - val_accuracy: 0.9778\n",
      "Epoch 28/50\n",
      "4/4 [==============================] - 0s 14ms/step - loss: 0.1783 - accuracy: 0.9333 - val_loss: 0.0970 - val_accuracy: 0.9556\n",
      "Epoch 29/50\n",
      "4/4 [==============================] - 0s 14ms/step - loss: 0.1734 - accuracy: 0.9048 - val_loss: 0.0935 - val_accuracy: 1.0000\n",
      "Epoch 30/50\n",
      "4/4 [==============================] - 0s 14ms/step - loss: 0.1509 - accuracy: 0.9524 - val_loss: 0.0792 - val_accuracy: 1.0000\n",
      "Epoch 31/50\n",
      "4/4 [==============================] - 0s 15ms/step - loss: 0.1585 - accuracy: 0.9524 - val_loss: 0.0942 - val_accuracy: 0.9556\n",
      "Epoch 32/50\n",
      "4/4 [==============================] - 0s 14ms/step - loss: 0.1731 - accuracy: 0.9048 - val_loss: 0.0865 - val_accuracy: 1.0000\n",
      "Epoch 33/50\n",
      "4/4 [==============================] - 0s 15ms/step - loss: 0.1410 - accuracy: 0.9524 - val_loss: 0.0840 - val_accuracy: 1.0000\n",
      "Epoch 34/50\n",
      "4/4 [==============================] - 0s 14ms/step - loss: 0.1481 - accuracy: 0.9524 - val_loss: 0.0757 - val_accuracy: 0.9778\n",
      "Epoch 35/50\n",
      "4/4 [==============================] - 0s 16ms/step - loss: 0.1585 - accuracy: 0.9429 - val_loss: 0.0676 - val_accuracy: 0.9778\n",
      "Epoch 36/50\n",
      "4/4 [==============================] - 0s 14ms/step - loss: 0.1489 - accuracy: 0.9333 - val_loss: 0.0557 - val_accuracy: 1.0000\n",
      "Epoch 37/50\n",
      "4/4 [==============================] - 0s 14ms/step - loss: 0.1170 - accuracy: 0.9810 - val_loss: 0.0532 - val_accuracy: 1.0000\n",
      "Epoch 38/50\n",
      "4/4 [==============================] - 0s 15ms/step - loss: 0.1317 - accuracy: 0.9524 - val_loss: 0.0545 - val_accuracy: 1.0000\n",
      "Epoch 39/50\n",
      "4/4 [==============================] - 0s 14ms/step - loss: 0.1553 - accuracy: 0.9333 - val_loss: 0.0739 - val_accuracy: 0.9556\n",
      "Epoch 40/50\n",
      "4/4 [==============================] - 0s 16ms/step - loss: 0.1389 - accuracy: 0.9238 - val_loss: 0.0504 - val_accuracy: 1.0000\n",
      "Epoch 41/50\n",
      "4/4 [==============================] - 0s 15ms/step - loss: 0.1107 - accuracy: 0.9714 - val_loss: 0.0515 - val_accuracy: 1.0000\n",
      "Epoch 42/50\n",
      "4/4 [==============================] - 0s 15ms/step - loss: 0.1080 - accuracy: 0.9619 - val_loss: 0.0519 - val_accuracy: 1.0000\n",
      "Epoch 43/50\n",
      "4/4 [==============================] - 0s 16ms/step - loss: 0.1513 - accuracy: 0.9238 - val_loss: 0.0529 - val_accuracy: 1.0000\n",
      "Epoch 44/50\n",
      "4/4 [==============================] - 0s 14ms/step - loss: 0.1062 - accuracy: 0.9810 - val_loss: 0.0452 - val_accuracy: 1.0000\n",
      "Epoch 45/50\n",
      "4/4 [==============================] - 0s 15ms/step - loss: 0.1197 - accuracy: 0.9524 - val_loss: 0.0433 - val_accuracy: 1.0000\n",
      "Epoch 46/50\n",
      "4/4 [==============================] - 0s 14ms/step - loss: 0.1186 - accuracy: 0.9714 - val_loss: 0.0598 - val_accuracy: 0.9778\n",
      "Epoch 47/50\n",
      "4/4 [==============================] - 0s 14ms/step - loss: 0.1265 - accuracy: 0.9429 - val_loss: 0.0370 - val_accuracy: 1.0000\n",
      "Epoch 48/50\n",
      "4/4 [==============================] - 0s 15ms/step - loss: 0.1398 - accuracy: 0.9619 - val_loss: 0.0369 - val_accuracy: 1.0000\n",
      "Epoch 49/50\n",
      "4/4 [==============================] - 0s 13ms/step - loss: 0.1072 - accuracy: 0.9524 - val_loss: 0.0739 - val_accuracy: 0.9556\n",
      "Epoch 50/50\n",
      "4/4 [==============================] - 0s 16ms/step - loss: 0.1305 - accuracy: 0.9429 - val_loss: 0.0373 - val_accuracy: 1.0000\n"
     ]
    }
   ],
   "source": [
    "history = model.fit(X_train, y_train, epochs=50, validation_data=(X_test, y_test))"
   ]
  },
  {
   "cell_type": "code",
   "execution_count": 10,
   "id": "1a2b93ad",
   "metadata": {},
   "outputs": [
    {
     "name": "stdout",
     "output_type": "stream",
     "text": [
      "Accuracy: 1.000\n"
     ]
    }
   ],
   "source": [
    "loss, acc = model.evaluate(X_test, y_test, verbose=0)\n",
    "print('Accuracy: %.3f' % acc)"
   ]
  },
  {
   "cell_type": "code",
   "execution_count": 11,
   "id": "05c073d3",
   "metadata": {},
   "outputs": [
    {
     "data": {
      "text/plain": [
       "<matplotlib.legend.Legend at 0x25db85f8b50>"
      ]
     },
     "execution_count": 11,
     "metadata": {},
     "output_type": "execute_result"
    },
    {
     "data": {
      "image/png": "[encoded data removed]",
      "text/plain": [
       "<Figure size 432x288 with 1 Axes>"
      ]
     },
     "metadata": {
      "needs_background": "light"
     },
     "output_type": "display_data"
    }
   ],
   "source": [
    "import matplotlib.pyplot as plt\n",
    "plt.plot(history.history['accuracy'], label='accuracy')\n",
    "plt.plot(history.history['val_accuracy'], label = 'val_accuracy')\n",
    "plt.xlabel('Epoch')\n",
    "plt.ylabel('Accuracy')\n",
    "plt.legend(loc='lower right')"
   ]
  },
  {
   "cell_type": "code",
   "execution_count": 49,
   "id": "e4f81f48",
   "metadata": {},
   "outputs": [
    {
     "name": "stdout",
     "output_type": "stream",
     "text": [
      "setosa\n"
     ]
    }
   ],
   "source": [
    "x = np.array([[3.1, 3.9, 3.4, 0.2]])\n",
    "pred = model.predict(x)\n",
    "#print(np.array(X_test))\n",
    "x_pred = np.argmax(pred, axis=1)\n",
    "if x_pred == 0:\n",
    "    print('setosa')\n",
    "elif x_pred == 1:\n",
    "    print('versicolor')\n",
    "else:\n",
    "    print('virginica')"
   ]
  },
  {
   "cell_type": "code",
   "execution_count": null,
   "id": "e8834a80",
   "metadata": {},
   "outputs": [],
   "source": []
  }
 ],
 "metadata": {
  "kernelspec": {
   "display_name": "Python 3 (ipykernel)",
   "language": "python",
   "name": "python3"
  },
  "language_info": {
   "codemirror_mode": {
    "name": "ipython",
    "version": 3
   },
   "file_extension": ".py",
   "mimetype": "text/x-python",
   "name": "python",
   "nbconvert_exporter": "python",
   "pygments_lexer": "ipython3",
   "version": "3.9.7"
  }
 },
 "nbformat": 4,
 "nbformat_minor": 5
}
