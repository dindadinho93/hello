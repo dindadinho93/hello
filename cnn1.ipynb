{
 "cells": [
  {
   "cell_type": "code",
   "execution_count": 1,
   "id": "1a19a101",
   "metadata": {},
   "outputs": [],
   "source": [
    "import tensorflow\n",
    "from tensorflow import keras as tf\n",
    "from keras.layers import Dense, Dropout, Flatten, Activation, Conv2D, MaxPooling2D\n",
    "import matplotlib.pyplot as plt\n",
    "import numpy as np"
   ]
  },
  {
   "cell_type": "code",
   "execution_count": 2,
   "id": "4f1abc07",
   "metadata": {},
   "outputs": [
    {
     "name": "stdout",
     "output_type": "stream",
     "text": [
      "[[  0   0   0   0   0   0   0   3   0  40  20   0   2   0   1   0  10  36   0   2   0   0   0   0   0   0   0   0]\n",
      " [  0   0   0   0   0   0   0   7   0 106  65   0   5   2   6   0  67 116   0   6   0   0   0   0   0   0   0   0]\n",
      " [  0   0   0   0   0   0   0   6   0  66 127   0   0   0   0   0 119  66   0   5   0   0   0   0   0   0   0   0]\n",
      " [  0   0   0   0   0   0   0   4   0  31 182 144  55  37  61 151 145   5   0   3   0   0   0   0   0   0   0   0]\n",
      " [  0   0   0   0   0   0   0   2   0  40 186 189 193 188 193 196 171   0   0   2   0   0   0   0   0   0   0   0]\n",
      " [  0   0   0   0   0   0   0   2   0  58 200 186 188 189 197 153 193  92   0   2   0   0   0   0   0   0   0   0]\n",
      " [  0   0   0   0   0   0   0   0   0 115 211 197 190 228 126  72 213 142   0   1   0   0   0   0   0   0   0   0]\n",
      " [  0   0   0   0   0   0   0   0   0 112 213 200 204 187  27 181 215 161   0   0   0   0   0   0   0   0   0   0]\n",
      " [  0   0   0   0   0   0   0   0   0  92 220 206 203 100 107 209 209 157   0   0   0   0   0   0   0   0   0   0]\n",
      " [  0   0   0   0   0   0   0   0   0 139 219 186 142  95 195 216 207 182   0   0   0   0   0   0   0   0   0   0]\n",
      " [  0   0   0   0   0   0   0   0  13 177 208 224 160 102 218 220 202 208   4   0   1   0   0   0   0   0   0   0]\n",
      " [  0   0   0   0   0   0   0   0  55 214 208 245  86 205 227 218 198 218  47   0   2   0   0   0   0   0   0   0]\n",
      " [  0   0   0   0   0   0   0   0  51 209 217 181 125 226 221 217 198 225  72   0   3   0   0   0   0   0   0   0]\n",
      " [  0   0   0   0   0   0   0   0  78 211 209 237 199 206 231 224 189 213 147   0   1   0   0   0   0   0   0   0]\n",
      " [  0   0   0   0   0   0   0   0 131 182 171 245 188 213 214 192 178 188 232   0   0   0   0   0   0   0   0   0]\n",
      " [  0   0   0   0   0   0   0   0 198 179 212 252 192 223 209 203 191 176 222   0   0   0   0   0   0   0   0   0]\n",
      " [  0   0   0   0   0   0   0   0 226 162 102 251 204 198 170 235 197 176 231  16   0   0   0   0   0   0   0   0]\n",
      " [  0   0   0   0   0   0   0   0 215 206 157 223 219 134 196 238 206 167 210  48   0   0   0   0   0   0   0   0]\n",
      " [  0   0   0   0   0   0   0  10 221 197 215 253 155 135 255 180 212 177 223  57   0   0   0   0   0   0   0   0]\n",
      " [  0   0   0   0   0   0   0  43 211 188 209 249 171 232 255 139 163 151 231 127   0   0   0   0   0   0   0   0]\n",
      " [  0   0   0   0   0   0   0  51 213 193 218 240 225 237 255 155 137 186 234 181   0   0   0   0   0   0   0   0]\n",
      " [  0   0   0   0   0   0   0  88 217 110 232 251 214 238 255 192  80 199 227 209   0   0   0   0   0   0   0   0]\n",
      " [  0   0   0   0   0   0   0  77 161  45  79 251 186 253 250 218  50 148 228 225   0   0   0   0   0   0   0   0]\n",
      " [  0   0   0   0   0   0   0  79 202 201 131 218 125 253 248 221 113 108 211 231  42   0   0   0   0   0   0   0]\n",
      " [  0   0   0   0   0   0   0 158 229 201 217 251 170 222 232 221 179 140 210 233  78   0   0   0   0   0   0   0]\n",
      " [  0   0   0   0   0   0   0 166 211 194 203 239 239 228 230 211 207 179 206 240 143   0   0   0   0   0   0   0]\n",
      " [  0   0   0   0   0   0   0 228 240 244 253 255 255 254 254 255 255 227 209 197 171   0   0   0   0   0   0   0]\n",
      " [  0   0   0   0   0   0   0  60 174 142 138 118 177 230 206 153  85 125 170  22   0   0   0   0   0   0   0   0]]\n"
     ]
    },
    {
     "data": {
      "text/plain": [
       "<matplotlib.image.AxesImage at 0x291ef55ad90>"
      ]
     },
     "execution_count": 2,
     "metadata": {},
     "output_type": "execute_result"
    },
    {
     "data": {
      "image/png": "[encoded data removed]",
      "text/plain": [
       "<Figure size 432x288 with 1 Axes>"
      ]
     },
     "metadata": {
      "needs_background": "light"
     },
     "output_type": "display_data"
    }
   ],
   "source": [
    "fmn = tf.datasets.fashion_mnist\n",
    "(xtrain, ytrain), (xtest, ytest) = fmn.load_data()\n",
    "np.set_printoptions(linewidth=200)\n",
    "img = xtest[450]\n",
    "print(img)\n",
    "plt.imshow(img)"
   ]
  },
  {
   "cell_type": "code",
   "execution_count": 3,
   "id": "3fdb5fbd",
   "metadata": {},
   "outputs": [
    {
     "data": {
      "text/plain": [
       "(60000, 28, 28)"
      ]
     },
     "execution_count": 3,
     "metadata": {},
     "output_type": "execute_result"
    }
   ],
   "source": [
    "xtrain.shape"
   ]
  },
  {
   "cell_type": "code",
   "execution_count": 4,
   "id": "14b54420",
   "metadata": {},
   "outputs": [],
   "source": [
    "xtrain = xtrain.reshape(60000, 28, 28, 1)\n",
    "xtest = xtest.reshape(10000, 28, 28, 1)"
   ]
  },
  {
   "cell_type": "code",
   "execution_count": 5,
   "id": "6b5b573f",
   "metadata": {},
   "outputs": [],
   "source": [
    "model = tf.models.Sequential()"
   ]
  },
  {
   "cell_type": "code",
   "execution_count": 6,
   "id": "b5dbcbe5",
   "metadata": {},
   "outputs": [],
   "source": [
    "model.add(Conv2D(32, (3,3), activation='relu', input_shape=(28, 28, 1)))\n",
    "model.add(MaxPooling2D(pool_size=(2,2), strides=2, padding='valid'))\n",
    "model.add(Conv2D(64, (3,3), activation='relu'))\n",
    "model.add(MaxPooling2D(pool_size=(2,2)))\n",
    "model.add(Dropout(0.2))\n",
    "model.add(Flatten())\n",
    "model.add(Dense(128, activation='relu'))\n",
    "model.add(Dense(10, activation='softmax'))"
   ]
  },
  {
   "cell_type": "code",
   "execution_count": 7,
   "id": "bbc596d9",
   "metadata": {},
   "outputs": [
    {
     "name": "stdout",
     "output_type": "stream",
     "text": [
      "Model: \"sequential\"\n",
      "_________________________________________________________________\n",
      " Layer (type)                Output Shape              Param #   \n",
      "=================================================================\n",
      " conv2d (Conv2D)             (None, 26, 26, 32)        320       \n",
      "                                                                 \n",
      " max_pooling2d (MaxPooling2D  (None, 13, 13, 32)       0         \n",
      " )                                                               \n",
      "                                                                 \n",
      " conv2d_1 (Conv2D)           (None, 11, 11, 64)        18496     \n",
      "                                                                 \n",
      " max_pooling2d_1 (MaxPooling  (None, 5, 5, 64)         0         \n",
      " 2D)                                                             \n",
      "                                                                 \n",
      " dropout (Dropout)           (None, 5, 5, 64)          0         \n",
      "                                                                 \n",
      " flatten (Flatten)           (None, 1600)              0         \n",
      "                                                                 \n",
      " dense (Dense)               (None, 128)               204928    \n",
      "                                                                 \n",
      " dense_1 (Dense)             (None, 10)                1290      \n",
      "                                                                 \n",
      "=================================================================\n",
      "Total params: 225,034\n",
      "Trainable params: 225,034\n",
      "Non-trainable params: 0\n",
      "_________________________________________________________________\n"
     ]
    }
   ],
   "source": [
    "model.summary()"
   ]
  },
  {
   "cell_type": "code",
   "execution_count": 8,
   "id": "3e678a4b",
   "metadata": {},
   "outputs": [],
   "source": [
    "opt = tf.optimizers.Adadelta(learning_rate=0.01)\n",
    "model.compile(loss=tf.losses.sparse_categorical_crossentropy, optimizer=opt, metrics=['accuracy'])"
   ]
  },
  {
   "cell_type": "code",
   "execution_count": 9,
   "id": "8a68c2a8",
   "metadata": {},
   "outputs": [
    {
     "name": "stdout",
     "output_type": "stream",
     "text": [
      "Epoch 1/15\n",
      "1875/1875 [==============================] - 42s 22ms/step - loss: 5.0994 - accuracy: 0.5085 - val_loss: 0.9355 - val_accuracy: 0.7329\n",
      "Epoch 2/15\n",
      "1875/1875 [==============================] - 44s 23ms/step - loss: 1.0761 - accuracy: 0.6983 - val_loss: 0.6903 - val_accuracy: 0.7694\n",
      "Epoch 3/15\n",
      "1875/1875 [==============================] - 40s 21ms/step - loss: 0.7856 - accuracy: 0.7449 - val_loss: 0.5948 - val_accuracy: 0.7908\n",
      "Epoch 4/15\n",
      "1875/1875 [==============================] - 40s 21ms/step - loss: 0.6708 - accuracy: 0.7730 - val_loss: 0.5459 - val_accuracy: 0.8064\n",
      "Epoch 5/15\n",
      "1875/1875 [==============================] - 40s 21ms/step - loss: 0.6035 - accuracy: 0.7925 - val_loss: 0.5170 - val_accuracy: 0.8156\n",
      "Epoch 6/15\n",
      "1875/1875 [==============================] - 41s 22ms/step - loss: 0.5655 - accuracy: 0.8030 - val_loss: 0.4943 - val_accuracy: 0.8243\n",
      "Epoch 7/15\n",
      "1875/1875 [==============================] - 41s 22ms/step - loss: 0.5269 - accuracy: 0.8142 - val_loss: 0.4724 - val_accuracy: 0.8310\n",
      "Epoch 8/15\n",
      "1875/1875 [==============================] - 41s 22ms/step - loss: 0.5060 - accuracy: 0.8224 - val_loss: 0.4591 - val_accuracy: 0.8370\n",
      "Epoch 9/15\n",
      "1875/1875 [==============================] - 41s 22ms/step - loss: 0.4830 - accuracy: 0.8294 - val_loss: 0.4462 - val_accuracy: 0.8422\n",
      "Epoch 10/15\n",
      "1875/1875 [==============================] - 41s 22ms/step - loss: 0.4691 - accuracy: 0.8360 - val_loss: 0.4333 - val_accuracy: 0.8443\n",
      "Epoch 11/15\n",
      "1875/1875 [==============================] - 41s 22ms/step - loss: 0.4514 - accuracy: 0.8418 - val_loss: 0.4221 - val_accuracy: 0.8466\n",
      "Epoch 12/15\n",
      "1875/1875 [==============================] - 41s 22ms/step - loss: 0.4380 - accuracy: 0.8435 - val_loss: 0.4149 - val_accuracy: 0.8521\n",
      "Epoch 13/15\n",
      "1875/1875 [==============================] - 41s 22ms/step - loss: 0.4271 - accuracy: 0.8490 - val_loss: 0.4089 - val_accuracy: 0.8542\n",
      "Epoch 14/15\n",
      "1875/1875 [==============================] - 41s 22ms/step - loss: 0.4169 - accuracy: 0.8509 - val_loss: 0.4039 - val_accuracy: 0.8544\n",
      "Epoch 15/15\n",
      "1875/1875 [==============================] - 40s 22ms/step - loss: 0.4040 - accuracy: 0.8559 - val_loss: 0.3955 - val_accuracy: 0.8581\n"
     ]
    }
   ],
   "source": [
    "history = model.fit(xtrain, ytrain, epochs=15, validation_data=(xtest, ytest))"
   ]
  },
  {
   "cell_type": "code",
   "execution_count": 10,
   "id": "a4bbdfcd",
   "metadata": {},
   "outputs": [
    {
     "data": {
      "text/plain": [
       "<matplotlib.legend.Legend at 0x291efa22e80>"
      ]
     },
     "execution_count": 10,
     "metadata": {},
     "output_type": "execute_result"
    },
    {
     "data": {
      "image/png": "[encoded data removed]",
      "text/plain": [
       "<Figure size 432x288 with 1 Axes>"
      ]
     },
     "metadata": {
      "needs_background": "light"
     },
     "output_type": "display_data"
    }
   ],
   "source": [
    "plt.plot(history.history['accuracy'], label='accuracy')\n",
    "plt.plot(history.history['val_accuracy'], label = 'val_accuracy')\n",
    "plt.xlabel('Epoch')\n",
    "plt.ylabel('Accuracy')\n",
    "plt.ylim([0.5, 1])\n",
    "plt.legend(loc='lower right')"
   ]
  },
  {
   "cell_type": "code",
   "execution_count": 11,
   "id": "7cee1960",
   "metadata": {},
   "outputs": [
    {
     "name": "stdout",
     "output_type": "stream",
     "text": [
      "Accuracy: 0.858\n"
     ]
    }
   ],
   "source": [
    "loss, acc = model.evaluate(xtest, ytest, verbose=0)\n",
    "print('Accuracy: %.3f' % acc)"
   ]
  },
  {
   "cell_type": "code",
   "execution_count": 13,
   "id": "107ed2c3",
   "metadata": {},
   "outputs": [
    {
     "name": "stdout",
     "output_type": "stream",
     "text": [
      "[[2.0599298e-03 1.9353004e-03 7.0358583e-05 9.9113983e-01 1.4905611e-04 3.4812292e-05 4.5715189e-03 6.5650426e-07 3.8056951e-05 4.2531698e-07]]\n",
      "Predicted: class=3\n"
     ]
    }
   ],
   "source": [
    "pred = model.predict(xtest[450].reshape(1, 28, 28, 1))\n",
    "print(pred)\n",
    "print('Predicted: class=%d' % np.argmax(pred))"
   ]
  },
  {
   "cell_type": "code",
   "execution_count": null,
   "id": "5e2436ba",
   "metadata": {},
   "outputs": [],
   "source": []
  }
 ],
 "metadata": {
  "kernelspec": {
   "display_name": "Python 3 (ipykernel)",
   "language": "python",
   "name": "python3"
  },
  "language_info": {
   "codemirror_mode": {
    "name": "ipython",
    "version": 3
   },
   "file_extension": ".py",
   "mimetype": "text/x-python",
   "name": "python",
   "nbconvert_exporter": "python",
   "pygments_lexer": "ipython3",
   "version": "3.9.7"
  }
 },
 "nbformat": 4,
 "nbformat_minor": 5
}
