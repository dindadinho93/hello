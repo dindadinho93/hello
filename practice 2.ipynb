{
 "cells": [
  {
   "cell_type": "code",
   "execution_count": 48,
   "id": "129c09fc",
   "metadata": {},
   "outputs": [],
   "source": [
    "from collections import Counter, deque\n",
    "from itertools import permutations\n",
    "import random"
   ]
  },
  {
   "cell_type": "code",
   "execution_count": 44,
   "id": "51e96411",
   "metadata": {},
   "outputs": [
    {
     "name": "stdout",
     "output_type": "stream",
     "text": [
      "Counter({'s': 4, 'd': 4, 'a': 3, 'v': 2})\n"
     ]
    },
    {
     "data": {
      "text/plain": [
       "deque([7, 1, 3, 7, 1])"
      ]
     },
     "execution_count": 44,
     "metadata": {},
     "output_type": "execute_result"
    }
   ],
   "source": [
    "x ='aasssddddsavv'\n",
    "str1 = Counter(x)\n",
    "s = deque()\n",
    "print(str1)\n",
    "str2 = str1.keys()\n",
    "s.append(1)\n",
    "s.appendleft(7)\n",
    "s.extendleft([3, 1, 7])\n",
    "s"
   ]
  },
  {
   "cell_type": "code",
   "execution_count": 51,
   "id": "40e4b751",
   "metadata": {},
   "outputs": [
    {
     "name": "stdout",
     "output_type": "stream",
     "text": [
      "[(1, 2), (1, 5), (1, 67), (1, 9), (1, 21), (2, 1), (2, 5), (2, 67), (2, 9), (2, 21), (5, 1), (5, 2), (5, 67), (5, 9), (5, 21), (67, 1), (67, 2), (67, 5), (67, 9), (67, 21), (9, 1), (9, 2), (9, 5), (9, 67), (9, 21), (21, 1), (21, 2), (21, 5), (21, 67), (21, 9)]\n"
     ]
    }
   ],
   "source": [
    "a = [1, 2, 5, 67, 9, 21]\n",
    "a1 = 1.5\n",
    "perm = permutations(a, 2)\n",
    "print(list(perm))"
   ]
  },
  {
   "cell_type": "code",
   "execution_count": 52,
   "id": "87902f25",
   "metadata": {},
   "outputs": [
    {
     "name": "stdout",
     "output_type": "stream",
     "text": [
      "[2, 4, 10, 134, 18, 42]\n",
      "[1, 2, 5, 67, 9, 21, 1, 2, 5, 67, 9, 21]\n",
      "[1, 5, 67, 9, 21]\n"
     ]
    }
   ],
   "source": [
    "b = map(lambda x: x*2, a)\n",
    "b1 = lambda x: x*2\n",
    "b2 = filter(lambda x: x%2 == 1, a)\n",
    "print(list(b))\n",
    "print(b1(a))\n",
    "print(list(b2))"
   ]
  },
  {
   "cell_type": "code",
   "execution_count": 90,
   "id": "5758d382",
   "metadata": {},
   "outputs": [
    {
     "name": "stdout",
     "output_type": "stream",
     "text": [
      "0.5153922053540086\n",
      "0.7962162446523026\n",
      "10\n",
      "[[ 9.25 16.8   5.48]\n",
      " [15.29 12.51  7.06]\n",
      " [19.69  8.58 19.2 ]]\n"
     ]
    },
    {
     "data": {
      "text/plain": [
       "array([[ 5,  7,  6],\n",
       "       [12, 14,  6],\n",
       "       [13,  9,  4]])"
      ]
     },
     "execution_count": 90,
     "metadata": {},
     "output_type": "execute_result"
    }
   ],
   "source": [
    "import numpy as np\n",
    "print(random.random())\n",
    "print(random.random())\n",
    "print(random.randint(5, 10))\n",
    "#print(np.random.random(4))\n",
    "arr = np.random.uniform(1, 20, (3,3))\n",
    "print(np.round(arr, 2))\n",
    "np.random.randint(1, 20, (3,3))"
   ]
  },
  {
   "cell_type": "code",
   "execution_count": 1,
   "id": "f81191af",
   "metadata": {},
   "outputs": [
    {
     "name": "stdout",
     "output_type": "stream",
     "text": [
      "hello\n"
     ]
    }
   ],
   "source": [
    "print('hello')"
   ]
  },
  {
   "cell_type": "code",
   "execution_count": null,
   "id": "f7e2d015",
   "metadata": {},
   "outputs": [],
   "source": []
  }
 ],
 "metadata": {
  "kernelspec": {
   "display_name": "Python 3 (ipykernel)",
   "language": "python",
   "name": "python3"
  },
  "language_info": {
   "codemirror_mode": {
    "name": "ipython",
    "version": 3
   },
   "file_extension": ".py",
   "mimetype": "text/x-python",
   "name": "python",
   "nbconvert_exporter": "python",
   "pygments_lexer": "ipython3",
   "version": "3.9.7"
  }
 },
 "nbformat": 4,
 "nbformat_minor": 5
}
