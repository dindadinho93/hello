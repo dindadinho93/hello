{
 "cells": [
  {
   "cell_type": "code",
   "execution_count": 48,
   "id": "129c09fc",
   "metadata": {},
   "outputs": [],
   "source": [
    "from collections import Counter, deque\n",
    "from itertools import permutations\n",
    "import random"
   ]
  },
  {
   "cell_type": "code",
   "execution_count": 44,
   "id": "51e96411",
   "metadata": {},
   "outputs": [
    {
     "name": "stdout",
     "output_type": "stream",
     "text": [
      "Counter({'s': 4, 'd': 4, 'a': 3, 'v': 2})\n"
     ]
    },
    {
     "data": {
      "text/plain": [
       "deque([7, 1, 3, 7, 1])"
      ]
     },
     "execution_count": 44,
     "metadata": {},
     "output_type": "execute_result"
    }
   ],
   "source": [
    "x ='aasssddddsavv'\n",
    "str1 = Counter(x)\n",
    "s = deque()\n",
    "print(str1)\n",
    "str2 = str1.keys()\n",
    "s.append(1)\n",
    "s.appendleft(7)\n",
    "s.extendleft([3, 1, 7])\n",
    "s"
   ]
  },
  {
   "cell_type": "code",
   "execution_count": 51,
   "id": "40e4b751",
   "metadata": {},
   "outputs": [
    {
     "name": "stdout",
     "output_type": "stream",
     "text": [
      "[(1, 2), (1, 5), (1, 67), (1, 9), (1, 21), (2, 1), (2, 5), (2, 67), (2, 9), (2, 21), (5, 1), (5, 2), (5, 67), (5, 9), (5, 21), (67, 1), (67, 2), (67, 5), (67, 9), (67, 21), (9, 1), (9, 2), (9, 5), (9, 67), (9, 21), (21, 1), (21, 2), (21, 5), (21, 67), (21, 9)]\n"
     ]
    }
   ],
   "source": [
    "a = [1, 2, 5, 67, 9, 21]\n",
    "a1 = 1.5\n",
    "perm = permutations(a, 2)\n",
    "print(list(perm))"
   ]
  },
  {
   "cell_type": "code",
   "execution_count": 52,
   "id": "87902f25",
   "metadata": {},
   "outputs": [
    {
     "name": "stdout",
     "output_type": "stream",
     "text": [
      "[2, 4, 10, 134, 18, 42]\n",
      "[1, 2, 5, 67, 9, 21, 1, 2, 5, 67, 9, 21]\n",
      "[1, 5, 67, 9, 21]\n"
     ]
    }
   ],
   "source": [
    "b = map(lambda x: x*2, a)\n",
    "b1 = lambda x: x*2\n",
    "b2 = filter(lambda x: x%2 == 1, a)\n",
    "print(list(b))\n",
    "print(b1(a))\n",
    "print(list(b2))"
   ]
  },
  {
   "cell_type": "code",
   "execution_count": 90,
   "id": "5758d382",
   "metadata": {},
   "outputs": [
    {
     "name": "stdout",
     "output_type": "stream",
     "text": [
      "0.5153922053540086\n",
      "0.7962162446523026\n",
      "10\n",
      "[[ 9.25 16.8   5.48]\n",
      " [15.29 12.51  7.06]\n",
      " [19.69  8.58 19.2 ]]\n"
     ]
    },
    {
     "data": {
      "text/plain": [
       "array([[ 5,  7,  6],\n",
       "       [12, 14,  6],\n",
       "       [13,  9,  4]])"
      ]
     },
     "execution_count": 90,
     "metadata": {},
     "output_type": "execute_result"
    }
   ],
   "source": [
    "import numpy as np\n",
    "print(random.random())\n",
    "print(random.random())\n",
    "print(random.randint(5, 10))\n",
    "#print(np.random.random(4))\n",
    "arr = np.random.uniform(1, 20, (3,3))\n",
    "print(np.round(arr, 2))\n",
    "np.random.randint(1, 20, (3,3))"
   ]
  },
  {
   "cell_type": "code",
   "execution_count": 1,
   "id": "f81191af",
   "metadata": {},
   "outputs": [
    {
     "name": "stdout",
     "output_type": "stream",
     "text": [
      "hello\n"
     ]
    }
   ],
   "source": [
    "print('hello')"
   ]
  },
  {
   "cell_type": "code",
   "execution_count": 1,
   "id": "f7e2d015",
   "metadata": {},
   "outputs": [],
   "source": [
    "import requests\n",
    "import pandas as pd"
   ]
  },
  {
   "cell_type": "code",
   "execution_count": 3,
   "id": "7cbbc408",
   "metadata": {},
   "outputs": [
    {
     "data": {
      "text/plain": [
       "200"
      ]
     },
     "execution_count": 3,
     "metadata": {},
     "output_type": "execute_result"
    }
   ],
   "source": [
    "req = requests.get('https://date.nager.at/api/v3/publicholidays/2019/ID')\n",
    "req.status_code"
   ]
  },
  {
   "cell_type": "code",
   "execution_count": 6,
   "id": "fcf97ffc",
   "metadata": {},
   "outputs": [
    {
     "data": {
      "text/html": [
       "<div>\n",
       "<style scoped>\n",
       "    .dataframe tbody tr th:only-of-type {\n",
       "        vertical-align: middle;\n",
       "    }\n",
       "\n",
       "    .dataframe tbody tr th {\n",
       "        vertical-align: top;\n",
       "    }\n",
       "\n",
       "    .dataframe thead th {\n",
       "        text-align: right;\n",
       "    }\n",
       "</style>\n",
       "<table border=\"1\" class=\"dataframe\">\n",
       "  <thead>\n",
       "    <tr style=\"text-align: right;\">\n",
       "      <th></th>\n",
       "      <th>date</th>\n",
       "      <th>localName</th>\n",
       "      <th>name</th>\n",
       "      <th>countryCode</th>\n",
       "      <th>fixed</th>\n",
       "      <th>global</th>\n",
       "      <th>counties</th>\n",
       "      <th>launchYear</th>\n",
       "      <th>types</th>\n",
       "    </tr>\n",
       "  </thead>\n",
       "  <tbody>\n",
       "    <tr>\n",
       "      <th>0</th>\n",
       "      <td>2019-01-01</td>\n",
       "      <td>Tahun Baru Masehi</td>\n",
       "      <td>New Year's Day</td>\n",
       "      <td>ID</td>\n",
       "      <td>True</td>\n",
       "      <td>True</td>\n",
       "      <td>None</td>\n",
       "      <td>NaN</td>\n",
       "      <td>[Public]</td>\n",
       "    </tr>\n",
       "    <tr>\n",
       "      <th>1</th>\n",
       "      <td>2019-04-19</td>\n",
       "      <td>Wafat Isa Almasih</td>\n",
       "      <td>Good Friday</td>\n",
       "      <td>ID</td>\n",
       "      <td>False</td>\n",
       "      <td>True</td>\n",
       "      <td>None</td>\n",
       "      <td>NaN</td>\n",
       "      <td>[Public]</td>\n",
       "    </tr>\n",
       "    <tr>\n",
       "      <th>2</th>\n",
       "      <td>2019-04-21</td>\n",
       "      <td>Paskah</td>\n",
       "      <td>Easter Sunday</td>\n",
       "      <td>ID</td>\n",
       "      <td>False</td>\n",
       "      <td>True</td>\n",
       "      <td>None</td>\n",
       "      <td>NaN</td>\n",
       "      <td>[Public]</td>\n",
       "    </tr>\n",
       "    <tr>\n",
       "      <th>3</th>\n",
       "      <td>2019-05-01</td>\n",
       "      <td>Hari Buruh Internasional</td>\n",
       "      <td>Labour Day</td>\n",
       "      <td>ID</td>\n",
       "      <td>True</td>\n",
       "      <td>True</td>\n",
       "      <td>None</td>\n",
       "      <td>NaN</td>\n",
       "      <td>[Public]</td>\n",
       "    </tr>\n",
       "    <tr>\n",
       "      <th>4</th>\n",
       "      <td>2019-05-30</td>\n",
       "      <td>Kenaikan Isa Almasih</td>\n",
       "      <td>Ascension Day</td>\n",
       "      <td>ID</td>\n",
       "      <td>False</td>\n",
       "      <td>True</td>\n",
       "      <td>None</td>\n",
       "      <td>NaN</td>\n",
       "      <td>[Public]</td>\n",
       "    </tr>\n",
       "    <tr>\n",
       "      <th>5</th>\n",
       "      <td>2019-06-01</td>\n",
       "      <td>Hari Lahir Pancasila</td>\n",
       "      <td>Pancasila Day</td>\n",
       "      <td>ID</td>\n",
       "      <td>True</td>\n",
       "      <td>True</td>\n",
       "      <td>None</td>\n",
       "      <td>2017.0</td>\n",
       "      <td>[Public]</td>\n",
       "    </tr>\n",
       "    <tr>\n",
       "      <th>6</th>\n",
       "      <td>2019-08-17</td>\n",
       "      <td>Hari Ulang Tahun Kemerdekaan Republik Indonesia</td>\n",
       "      <td>Independence Day</td>\n",
       "      <td>ID</td>\n",
       "      <td>True</td>\n",
       "      <td>True</td>\n",
       "      <td>None</td>\n",
       "      <td>NaN</td>\n",
       "      <td>[Public]</td>\n",
       "    </tr>\n",
       "    <tr>\n",
       "      <th>7</th>\n",
       "      <td>2019-12-25</td>\n",
       "      <td>Hari Raya Natal</td>\n",
       "      <td>Christmas Day</td>\n",
       "      <td>ID</td>\n",
       "      <td>True</td>\n",
       "      <td>True</td>\n",
       "      <td>None</td>\n",
       "      <td>NaN</td>\n",
       "      <td>[Public]</td>\n",
       "    </tr>\n",
       "  </tbody>\n",
       "</table>\n",
       "</div>"
      ],
      "text/plain": [
       "         date                                        localName  \\\n",
       "0  2019-01-01                                Tahun Baru Masehi   \n",
       "1  2019-04-19                                Wafat Isa Almasih   \n",
       "2  2019-04-21                                           Paskah   \n",
       "3  2019-05-01                         Hari Buruh Internasional   \n",
       "4  2019-05-30                             Kenaikan Isa Almasih   \n",
       "5  2019-06-01                             Hari Lahir Pancasila   \n",
       "6  2019-08-17  Hari Ulang Tahun Kemerdekaan Republik Indonesia   \n",
       "7  2019-12-25                                  Hari Raya Natal   \n",
       "\n",
       "               name countryCode  fixed  global counties  launchYear     types  \n",
       "0    New Year's Day          ID   True    True     None         NaN  [Public]  \n",
       "1       Good Friday          ID  False    True     None         NaN  [Public]  \n",
       "2     Easter Sunday          ID  False    True     None         NaN  [Public]  \n",
       "3        Labour Day          ID   True    True     None         NaN  [Public]  \n",
       "4     Ascension Day          ID  False    True     None         NaN  [Public]  \n",
       "5     Pancasila Day          ID   True    True     None      2017.0  [Public]  \n",
       "6  Independence Day          ID   True    True     None         NaN  [Public]  \n",
       "7     Christmas Day          ID   True    True     None         NaN  [Public]  "
      ]
     },
     "execution_count": 6,
     "metadata": {},
     "output_type": "execute_result"
    }
   ],
   "source": [
    "pd.DataFrame(req.json())"
   ]
  },
  {
   "cell_type": "code",
   "execution_count": 9,
   "id": "9a5210a8",
   "metadata": {},
   "outputs": [],
   "source": [
    "req = requests.get('https://randomuser.me/api/?nat=id')\n",
    "bio =req.json()"
   ]
  },
  {
   "cell_type": "code",
   "execution_count": 13,
   "id": "735c4c63",
   "metadata": {},
   "outputs": [],
   "source": [
    "bio = bio['results'][0]"
   ]
  },
  {
   "cell_type": "code",
   "execution_count": 16,
   "id": "d2a9a42f",
   "metadata": {},
   "outputs": [
    {
     "data": {
      "text/plain": [
       "{'gender': 'female',\n",
       " 'name': {'title': 'Mrs', 'first': 'Lola', 'last': 'Boyer'},\n",
       " 'location': {'street': {'number': 9405, 'name': 'Rue Barrème'},\n",
       "  'city': 'Nancy',\n",
       "  'state': 'Vendée',\n",
       "  'country': 'France',\n",
       "  'postcode': 75084,\n",
       "  'coordinates': {'latitude': '3.3852', 'longitude': '118.6424'},\n",
       "  'timezone': {'offset': '-6:00',\n",
       "   'description': 'Central Time (US & Canada), Mexico City'}},\n",
       " 'email': 'lola.boyer@example.com',\n",
       " 'login': {'uuid': '9173f69f-b407-4f2e-8285-4e53f0cb8f3e',\n",
       "  'username': 'goldenelephant919',\n",
       "  'password': 'lesbain',\n",
       "  'salt': 'taC8l3Yi',\n",
       "  'md5': '663bc10a5485ef306050a88ebe6b9da1',\n",
       "  'sha1': 'f4336489776bfc5a51662e088c9219c920137b98',\n",
       "  'sha256': 'b50dabdfb3e6a131f900f40090bfc4fb170c12f8eee5d38f741dd530a837d7e7'},\n",
       " 'dob': {'date': '1962-09-03T05:27:08.769Z', 'age': 60},\n",
       " 'registered': {'date': '2005-11-05T10:01:13.982Z', 'age': 17},\n",
       " 'phone': '01-77-59-28-83',\n",
       " 'cell': '06-76-49-84-65',\n",
       " 'id': {'name': 'INSEE', 'value': '2NNaN14417053 26'},\n",
       " 'picture': {'large': 'https://randomuser.me/api/portraits/women/94.jpg',\n",
       "  'medium': 'https://randomuser.me/api/portraits/med/women/94.jpg',\n",
       "  'thumbnail': 'https://randomuser.me/api/portraits/thumb/women/94.jpg'},\n",
       " 'nat': 'FR'}"
      ]
     },
     "execution_count": 16,
     "metadata": {},
     "output_type": "execute_result"
    }
   ],
   "source": [
    "bio"
   ]
  },
  {
   "cell_type": "code",
   "execution_count": 17,
   "id": "604bd43d",
   "metadata": {},
   "outputs": [
    {
     "data": {
      "text/plain": [
       "'Lola'"
      ]
     },
     "execution_count": 17,
     "metadata": {},
     "output_type": "execute_result"
    }
   ],
   "source": [
    "info = bio['name']['first']\n",
    "info"
   ]
  },
  {
   "cell_type": "code",
   "execution_count": 21,
   "id": "47cba601",
   "metadata": {},
   "outputs": [
    {
     "data": {
      "text/plain": [
       "{'first_name': 'Lola',\n",
       " 'last_name': 'Boyer',\n",
       " 'gender': 'female',\n",
       " 'birth': '1962-09-03T05:27:08.769Z'}"
      ]
     },
     "execution_count": 21,
     "metadata": {},
     "output_type": "execute_result"
    }
   ],
   "source": [
    "biodata = {\n",
    "    'first_name' : bio['name']['first'],\n",
    "    'last_name' : bio['name']['last'],\n",
    "    'gender' : bio['gender'],\n",
    "    'birth' : bio['dob']['date']\n",
    "}\n",
    "biodata"
   ]
  },
  {
   "cell_type": "code",
   "execution_count": 22,
   "id": "09ba0456",
   "metadata": {},
   "outputs": [
    {
     "data": {
      "text/plain": [
       "'03-09-62'"
      ]
     },
     "execution_count": 22,
     "metadata": {},
     "output_type": "execute_result"
    }
   ],
   "source": [
    "from dateutil import parser\n",
    "\n",
    "date = parser.parse(biodata['birth'])\n",
    "date = date.strftime('%d-%m-%y')\n",
    "date"
   ]
  },
  {
   "cell_type": "code",
   "execution_count": 23,
   "id": "4d6b017a",
   "metadata": {},
   "outputs": [
    {
     "data": {
      "text/plain": [
       "{'first_name': 'Lola',\n",
       " 'last_name': 'Boyer',\n",
       " 'gender': 'female',\n",
       " 'birth': '03-09-62'}"
      ]
     },
     "execution_count": 23,
     "metadata": {},
     "output_type": "execute_result"
    }
   ],
   "source": [
    "biodata['birth'] = date\n",
    "biodata"
   ]
  },
  {
   "cell_type": "code",
   "execution_count": null,
   "id": "dc56d4e1",
   "metadata": {},
   "outputs": [],
   "source": []
  }
 ],
 "metadata": {
  "kernelspec": {
   "display_name": "Python 3 (ipykernel)",
   "language": "python",
   "name": "python3"
  },
  "language_info": {
   "codemirror_mode": {
    "name": "ipython",
    "version": 3
   },
   "file_extension": ".py",
   "mimetype": "text/x-python",
   "name": "python",
   "nbconvert_exporter": "python",
   "pygments_lexer": "ipython3",
   "version": "3.9.9"
  }
 },
 "nbformat": 4,
 "nbformat_minor": 5
}
