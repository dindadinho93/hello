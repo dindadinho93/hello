{
 "cells": [
  {
   "cell_type": "code",
   "execution_count": 1,
   "id": "91027a1b",
   "metadata": {},
   "outputs": [],
   "source": [
    "import tensorflow as tf\n",
    "from keras.models import Sequential\n",
    "from keras.layers import Dense, Dropout, Embedding, LSTM, Bidirectional, GlobalMaxPool1D\n",
    "import numpy as np\n",
    "import pandas as pd\n",
    "import nltk\n",
    "import re\n",
    "from nltk.corpus import stopwords\n"
   ]
  },
  {
   "cell_type": "code",
   "execution_count": 2,
   "id": "63bf6b4d",
   "metadata": {},
   "outputs": [
    {
     "data": {
      "text/html": [
       "<div>\n",
       "<style scoped>\n",
       "    .dataframe tbody tr th:only-of-type {\n",
       "        vertical-align: middle;\n",
       "    }\n",
       "\n",
       "    .dataframe tbody tr th {\n",
       "        vertical-align: top;\n",
       "    }\n",
       "\n",
       "    .dataframe thead th {\n",
       "        text-align: right;\n",
       "    }\n",
       "</style>\n",
       "<table border=\"1\" class=\"dataframe\">\n",
       "  <thead>\n",
       "    <tr style=\"text-align: right;\">\n",
       "      <th></th>\n",
       "      <th>text</th>\n",
       "      <th>airline_sentiment</th>\n",
       "    </tr>\n",
       "  </thead>\n",
       "  <tbody>\n",
       "    <tr>\n",
       "      <th>1</th>\n",
       "      <td>@VirginAmerica plus you've added commercials t...</td>\n",
       "      <td>positive</td>\n",
       "    </tr>\n",
       "    <tr>\n",
       "      <th>3</th>\n",
       "      <td>@VirginAmerica it's really aggressive to blast...</td>\n",
       "      <td>negative</td>\n",
       "    </tr>\n",
       "    <tr>\n",
       "      <th>4</th>\n",
       "      <td>@VirginAmerica and it's a really big bad thing...</td>\n",
       "      <td>negative</td>\n",
       "    </tr>\n",
       "    <tr>\n",
       "      <th>5</th>\n",
       "      <td>@VirginAmerica seriously would pay $30 a fligh...</td>\n",
       "      <td>negative</td>\n",
       "    </tr>\n",
       "    <tr>\n",
       "      <th>6</th>\n",
       "      <td>@VirginAmerica yes, nearly every time I fly VX...</td>\n",
       "      <td>positive</td>\n",
       "    </tr>\n",
       "    <tr>\n",
       "      <th>...</th>\n",
       "      <td>...</td>\n",
       "      <td>...</td>\n",
       "    </tr>\n",
       "    <tr>\n",
       "      <th>14633</th>\n",
       "      <td>@AmericanAir my flight was Cancelled Flightled...</td>\n",
       "      <td>negative</td>\n",
       "    </tr>\n",
       "    <tr>\n",
       "      <th>14634</th>\n",
       "      <td>@AmericanAir right on cue with the delays👌</td>\n",
       "      <td>negative</td>\n",
       "    </tr>\n",
       "    <tr>\n",
       "      <th>14635</th>\n",
       "      <td>@AmericanAir thank you we got on a different f...</td>\n",
       "      <td>positive</td>\n",
       "    </tr>\n",
       "    <tr>\n",
       "      <th>14636</th>\n",
       "      <td>@AmericanAir leaving over 20 minutes Late Flig...</td>\n",
       "      <td>negative</td>\n",
       "    </tr>\n",
       "    <tr>\n",
       "      <th>14638</th>\n",
       "      <td>@AmericanAir you have my money, you change my ...</td>\n",
       "      <td>negative</td>\n",
       "    </tr>\n",
       "  </tbody>\n",
       "</table>\n",
       "<p>11541 rows × 2 columns</p>\n",
       "</div>"
      ],
      "text/plain": [
       "                                                    text airline_sentiment\n",
       "1      @VirginAmerica plus you've added commercials t...          positive\n",
       "3      @VirginAmerica it's really aggressive to blast...          negative\n",
       "4      @VirginAmerica and it's a really big bad thing...          negative\n",
       "5      @VirginAmerica seriously would pay $30 a fligh...          negative\n",
       "6      @VirginAmerica yes, nearly every time I fly VX...          positive\n",
       "...                                                  ...               ...\n",
       "14633  @AmericanAir my flight was Cancelled Flightled...          negative\n",
       "14634         @AmericanAir right on cue with the delays👌          negative\n",
       "14635  @AmericanAir thank you we got on a different f...          positive\n",
       "14636  @AmericanAir leaving over 20 minutes Late Flig...          negative\n",
       "14638  @AmericanAir you have my money, you change my ...          negative\n",
       "\n",
       "[11541 rows x 2 columns]"
      ]
     },
     "execution_count": 2,
     "metadata": {},
     "output_type": "execute_result"
    }
   ],
   "source": [
    "num_of_words = 10000\n",
    "data = pd.read_csv('Tweets.csv')\n",
    "tweet_df = data[['text','airline_sentiment']]\n",
    "tweet_df = tweet_df[tweet_df['airline_sentiment'] != 'neutral']\n",
    "tweet = tweet_df['text'].values\n",
    "tweet_df"
   ]
  },
  {
   "cell_type": "code",
   "execution_count": 3,
   "id": "4b3569ca",
   "metadata": {},
   "outputs": [],
   "source": [
    "from sklearn.preprocessing import LabelEncoder\n",
    "label = LabelEncoder().fit_transform(tweet_df['airline_sentiment'])\n",
    "#label = tf.keras.utils.to_categorical(label)"
   ]
  },
  {
   "cell_type": "code",
   "execution_count": 4,
   "id": "746c71b7",
   "metadata": {},
   "outputs": [],
   "source": [
    "doc = []\n",
    "\n",
    "from nltk.stem import WordNetLemmatizer\n",
    "\n",
    "stemmer = WordNetLemmatizer()\n",
    "\n",
    "for sen in range(0, len(tweet)):\n",
    "    # Remove all the special characters\n",
    "    document = re.sub(r'\\W', ' ', str(tweet[sen]))\n",
    "    \n",
    "    # remove all single characters\n",
    "    document = re.sub(r'\\s+[a-zA-Z]\\s+', ' ', document)\n",
    "    \n",
    "    # Remove single characters from the start\n",
    "    document = re.sub(r'\\^[a-zA-Z]\\s+', ' ', document) \n",
    "    \n",
    "    # Substituting multiple spaces with single space\n",
    "    document = re.sub(r'\\s+', ' ', document, flags=re.I)\n",
    "    \n",
    "    # Removing prefixed 'b'\n",
    "    document = re.sub(r'^b\\s+', '', document)\n",
    "    \n",
    "    # Converting to Lowercase\n",
    "    document = document.lower()\n",
    "    \n",
    "    # Lemmatization & remove Stopword\n",
    "    document = document.split()\n",
    "    \n",
    "    swords = set(stopwords.words(\"english\"))\n",
    "    document = [w for w in document if w not in swords]\n",
    "\n",
    "    document = [stemmer.lemmatize(word) for word in document]\n",
    "    document = ' '.join(document)\n",
    "    \n",
    "    doc.append(document)\n",
    "  "
   ]
  },
  {
   "cell_type": "markdown",
   "id": "1aa48d42",
   "metadata": {},
   "source": [
    "## fungsi word embedding"
   ]
  },
  {
   "cell_type": "code",
   "execution_count": 5,
   "id": "b6b70140",
   "metadata": {},
   "outputs": [],
   "source": [
    "def create_embedding_matrix(filepath, word_index, embedding_dim):\n",
    "    vocab_size = len(word_index) + 1  # Adding again 1 because of reserved 0 index\n",
    "    embedding_matrix = np.zeros((vocab_size, embedding_dim))\n",
    "\n",
    "    with open(filepath, encoding=\"utf8\") as f:\n",
    "        for line in f:\n",
    "            word, *vector = line.split()\n",
    "            if word in word_index:\n",
    "                idx = word_index[word] \n",
    "                embedding_matrix[idx] = np.array(\n",
    "                    vector, dtype=np.float32)[:embedding_dim]\n",
    "\n",
    "    return embedding_matrix"
   ]
  },
  {
   "cell_type": "code",
   "execution_count": 6,
   "id": "da9ff7fe",
   "metadata": {},
   "outputs": [
    {
     "data": {
      "text/plain": [
       "array([ 48, 232, 403,   9, 242,  75,   0,   0,   0,   0,   0,   0,   0,\n",
       "         0,   0,   0,   0,   0,   0,   0,   0,   0,   0,   0,   0,   0],\n",
       "      dtype=int64)"
      ]
     },
     "execution_count": 6,
     "metadata": {},
     "output_type": "execute_result"
    }
   ],
   "source": [
    "from tensorflow.keras.preprocessing.text import Tokenizer\n",
    "\n",
    "tokenizer = Tokenizer(num_words=5000)\n",
    "tokenizer.fit_on_texts(doc)\n",
    "\n",
    "layer = tf.keras.layers.TextVectorization()\n",
    "layer.adapt(doc)\n",
    "vt = layer(doc).numpy()\n",
    "vt[6]"
   ]
  },
  {
   "cell_type": "code",
   "execution_count": 7,
   "id": "e407ad2c",
   "metadata": {},
   "outputs": [
    {
     "name": "stdout",
     "output_type": "stream",
     "text": [
      "(8078, 26) (8078,) (3463, 26) (3463,)\n",
      "26\n"
     ]
    }
   ],
   "source": [
    "from sklearn.model_selection import train_test_split \n",
    "X_train, X_test, y_train, y_test = train_test_split(vt, label, test_size=0.3, random_state=500) \n",
    "n_feature = X_train.shape[1] \n",
    "print(X_train.shape, y_train.shape, X_test.shape, y_test.shape) \n",
    "print(n_feature)"
   ]
  },
  {
   "cell_type": "code",
   "execution_count": 8,
   "id": "13342942",
   "metadata": {},
   "outputs": [],
   "source": [
    "embedding_dim = 50\n",
    "embedding_matrix = create_embedding_matrix('data/wiki-news-300d-1M.vec', tokenizer.word_index, embedding_dim)"
   ]
  },
  {
   "cell_type": "markdown",
   "id": "0c431c2b",
   "metadata": {},
   "source": [
    "### check"
   ]
  },
  {
   "cell_type": "code",
   "execution_count": 9,
   "id": "e633b624",
   "metadata": {},
   "outputs": [
    {
     "data": {
      "text/plain": [
       "0.710293867844403"
      ]
     },
     "execution_count": 9,
     "metadata": {},
     "output_type": "execute_result"
    }
   ],
   "source": [
    "vocab_size = len(tokenizer.word_index) + 1\n",
    "nonzero_elements = np.count_nonzero(np.count_nonzero(embedding_matrix, axis=1))\n",
    "nonzero_elements / vocab_size"
   ]
  },
  {
   "cell_type": "code",
   "execution_count": 10,
   "id": "2eefe21b",
   "metadata": {},
   "outputs": [],
   "source": [
    "model = Sequential()\n",
    "model.add(Embedding(vocab_size, embedding_dim, input_length=n_feature))\n",
    "model.add(Dropout(0.2))\n",
    "model.add(LSTM(128))\n",
    "model.add(Dense(128, activation='relu'))\n",
    "model.add(Dropout(0.2))\n",
    "model.add(Dense(1, activation='sigmoid'))\n",
    "# weights=[embedding_matrix], trainable=False"
   ]
  },
  {
   "cell_type": "code",
   "execution_count": 11,
   "id": "38e1a98d",
   "metadata": {},
   "outputs": [
    {
     "name": "stdout",
     "output_type": "stream",
     "text": [
      "Model: \"sequential\"\n",
      "_________________________________________________________________\n",
      " Layer (type)                Output Shape              Param #   \n",
      "=================================================================\n",
      " embedding (Embedding)       (None, 26, 50)            588700    \n",
      "                                                                 \n",
      " dropout (Dropout)           (None, 26, 50)            0         \n",
      "                                                                 \n",
      " lstm (LSTM)                 (None, 128)               91648     \n",
      "                                                                 \n",
      " dense (Dense)               (None, 128)               16512     \n",
      "                                                                 \n",
      " dropout_1 (Dropout)         (None, 128)               0         \n",
      "                                                                 \n",
      " dense_1 (Dense)             (None, 1)                 129       \n",
      "                                                                 \n",
      "=================================================================\n",
      "Total params: 696,989\n",
      "Trainable params: 696,989\n",
      "Non-trainable params: 0\n",
      "_________________________________________________________________\n"
     ]
    }
   ],
   "source": [
    "model.summary()"
   ]
  },
  {
   "cell_type": "code",
   "execution_count": 12,
   "id": "ec44062d",
   "metadata": {},
   "outputs": [],
   "source": [
    "opt = tf.keras.optimizers.Adam(learning_rate=0.01)\n",
    "model.compile(optimizer=opt, loss='binary_crossentropy', metrics=['accuracy', tf.keras.metrics.Precision(), tf.keras.metrics.Recall()])"
   ]
  },
  {
   "cell_type": "code",
   "execution_count": 13,
   "id": "8bff7e5a",
   "metadata": {},
   "outputs": [
    {
     "name": "stdout",
     "output_type": "stream",
     "text": [
      "Epoch 1/50\n",
      "253/253 [==============================] - 16s 55ms/step - loss: 0.5057 - accuracy: 0.7929 - precision: 0.4842 - recall: 0.0552 - val_loss: 0.5059 - val_accuracy: 0.7990 - val_precision: 0.0000e+00 - val_recall: 0.0000e+00\n",
      "Epoch 2/50\n",
      "253/253 [==============================] - 12s 49ms/step - loss: 0.5155 - accuracy: 0.7936 - precision: 0.0000e+00 - recall: 0.0000e+00 - val_loss: 0.5018 - val_accuracy: 0.7990 - val_precision: 0.0000e+00 - val_recall: 0.0000e+00\n",
      "Epoch 3/50\n",
      "253/253 [==============================] - 12s 48ms/step - loss: 0.5129 - accuracy: 0.7936 - precision: 0.0000e+00 - recall: 0.0000e+00 - val_loss: 0.5021 - val_accuracy: 0.7990 - val_precision: 0.0000e+00 - val_recall: 0.0000e+00\n",
      "Epoch 4/50\n",
      "253/253 [==============================] - 12s 48ms/step - loss: 0.5109 - accuracy: 0.7936 - precision: 0.0000e+00 - recall: 0.0000e+00 - val_loss: 0.5018 - val_accuracy: 0.7990 - val_precision: 0.0000e+00 - val_recall: 0.0000e+00\n",
      "Epoch 5/50\n",
      "253/253 [==============================] - 13s 50ms/step - loss: 0.4163 - accuracy: 0.8289 - precision: 0.6815 - recall: 0.3209 - val_loss: 0.3207 - val_accuracy: 0.8675 - val_precision: 0.6657 - val_recall: 0.6839\n",
      "Epoch 6/50\n",
      "253/253 [==============================] - 12s 49ms/step - loss: 0.2174 - accuracy: 0.9197 - precision: 0.8222 - recall: 0.7792 - val_loss: 0.2845 - val_accuracy: 0.9041 - val_precision: 0.8309 - val_recall: 0.6566\n",
      "Epoch 7/50\n",
      "253/253 [==============================] - 13s 52ms/step - loss: 0.1344 - accuracy: 0.9513 - precision: 0.8991 - recall: 0.8608 - val_loss: 0.2588 - val_accuracy: 0.9053 - val_precision: 0.8067 - val_recall: 0.6954\n",
      "Epoch 8/50\n",
      "253/253 [==============================] - 12s 48ms/step - loss: 0.0934 - accuracy: 0.9674 - precision: 0.9328 - recall: 0.9076 - val_loss: 0.3094 - val_accuracy: 0.9079 - val_precision: 0.8222 - val_recall: 0.6911\n",
      "Epoch 9/50\n",
      "253/253 [==============================] - 12s 48ms/step - loss: 0.0651 - accuracy: 0.9792 - precision: 0.9556 - recall: 0.9430 - val_loss: 0.3762 - val_accuracy: 0.9070 - val_precision: 0.8542 - val_recall: 0.6480\n",
      "Epoch 10/50\n",
      "253/253 [==============================] - 13s 51ms/step - loss: 0.0455 - accuracy: 0.9854 - precision: 0.9657 - recall: 0.9634 - val_loss: 0.3761 - val_accuracy: 0.9096 - val_precision: 0.8438 - val_recall: 0.6753\n",
      "Epoch 11/50\n",
      "253/253 [==============================] - 17s 68ms/step - loss: 0.0393 - accuracy: 0.9865 - precision: 0.9670 - recall: 0.9676 - val_loss: 0.3582 - val_accuracy: 0.9134 - val_precision: 0.8143 - val_recall: 0.7371\n",
      "Epoch 12/50\n",
      "253/253 [==============================] - 15s 61ms/step - loss: 0.0332 - accuracy: 0.9882 - precision: 0.9752 - recall: 0.9676 - val_loss: 0.4421 - val_accuracy: 0.9070 - val_precision: 0.8351 - val_recall: 0.66950271\n",
      "Epoch 13/50\n",
      "253/253 [==============================] - 15s 58ms/step - loss: 0.0279 - accuracy: 0.9905 - precision: 0.9749 - recall: 0.9790 - val_loss: 0.5637 - val_accuracy: 0.9064 - val_precision: 0.8345 - val_recall: 0.6667\n",
      "Epoch 14/50\n",
      "253/253 [==============================] - 13s 51ms/step - loss: 0.0226 - accuracy: 0.9918 - precision: 0.9802 - recall: 0.9802 - val_loss: 0.6118 - val_accuracy: 0.9062 - val_precision: 0.8391 - val_recall: 0.6595\n",
      "Epoch 15/50\n",
      "253/253 [==============================] - 12s 48ms/step - loss: 0.0262 - accuracy: 0.9916 - precision: 0.9808 - recall: 0.9784 - val_loss: 0.4872 - val_accuracy: 0.9056 - val_precision: 0.8301 - val_recall: 0.6667\n",
      "Epoch 16/50\n",
      "253/253 [==============================] - 12s 49ms/step - loss: 0.0261 - accuracy: 0.9905 - precision: 0.9778 - recall: 0.9760 - val_loss: 0.5765 - val_accuracy: 0.9119 - val_precision: 0.8641 - val_recall: 0.6667\n",
      "Epoch 17/50\n",
      "253/253 [==============================] - 13s 51ms/step - loss: 0.0205 - accuracy: 0.9927 - precision: 0.9873 - recall: 0.9772 - val_loss: 0.5015 - val_accuracy: 0.9056 - val_precision: 0.8122 - val_recall: 0.6897\n",
      "Epoch 18/50\n",
      "253/253 [==============================] - 13s 51ms/step - loss: 0.0202 - accuracy: 0.9936 - precision: 0.9838 - recall: 0.9850 - val_loss: 0.6051 - val_accuracy: 0.9050 - val_precision: 0.8191 - val_recall: 0.6767\n",
      "Epoch 19/50\n",
      "253/253 [==============================] - 12s 49ms/step - loss: 0.0198 - accuracy: 0.9936 - precision: 0.9867 - recall: 0.9820 - val_loss: 0.6568 - val_accuracy: 0.9018 - val_precision: 0.7722 - val_recall: 0.7256\n",
      "Epoch 20/50\n",
      "253/253 [==============================] - 12s 49ms/step - loss: 0.0207 - accuracy: 0.9932 - precision: 0.9867 - recall: 0.9802 - val_loss: 0.5732 - val_accuracy: 0.9030 - val_precision: 0.7875 - val_recall: 0.7083\n",
      "Epoch 21/50\n",
      "253/253 [==============================] - 12s 49ms/step - loss: 0.0180 - accuracy: 0.9941 - precision: 0.9844 - recall: 0.9868 - val_loss: 0.5469 - val_accuracy: 0.9044 - val_precision: 0.8088 - val_recall: 0.6868\n",
      "Epoch 22/50\n",
      "253/253 [==============================] - 12s 47ms/step - loss: 0.0118 - accuracy: 0.9969 - precision: 0.9916 - recall: 0.9934 - val_loss: 0.7284 - val_accuracy: 0.9059 - val_precision: 0.8304 - val_recall: 0.6681\n",
      "Epoch 23/50\n",
      "253/253 [==============================] - 12s 49ms/step - loss: 0.0118 - accuracy: 0.9958 - precision: 0.9928 - recall: 0.9868 - val_loss: 0.6602 - val_accuracy: 0.9038 - val_precision: 0.7971 - val_recall: 0.6997\n",
      "Epoch 24/50\n",
      "253/253 [==============================] - 12s 48ms/step - loss: 0.0129 - accuracy: 0.9957 - precision: 0.9892 - recall: 0.9898 - val_loss: 0.5677 - val_accuracy: 0.9050 - val_precision: 0.7936 - val_recall: 0.7126\n",
      "Epoch 25/50\n",
      "253/253 [==============================] - 12s 49ms/step - loss: 0.0143 - accuracy: 0.9948 - precision: 0.9886 - recall: 0.9862 - val_loss: 0.6961 - val_accuracy: 0.9050 - val_precision: 0.8342 - val_recall: 0.6580\n",
      "Epoch 26/50\n",
      "253/253 [==============================] - 12s 48ms/step - loss: 0.0122 - accuracy: 0.9958 - precision: 0.9892 - recall: 0.9904 - val_loss: 0.7375 - val_accuracy: 0.9076 - val_precision: 0.8253 - val_recall: 0.6853\n",
      "Epoch 27/50\n",
      "253/253 [==============================] - 12s 48ms/step - loss: 0.0179 - accuracy: 0.9944 - precision: 0.9891 - recall: 0.9838 - val_loss: 0.6327 - val_accuracy: 0.9044 - val_precision: 0.8088 - val_recall: 0.6868\n",
      "Epoch 28/50\n",
      "253/253 [==============================] - 14s 55ms/step - loss: 0.0151 - accuracy: 0.9952 - precision: 0.9874 - recall: 0.9892 - val_loss: 0.5286 - val_accuracy: 0.9085 - val_precision: 0.8284 - val_recall: 0.6868\n",
      "Epoch 29/50\n",
      "253/253 [==============================] - 15s 60ms/step - loss: 0.0129 - accuracy: 0.9962 - precision: 0.9916 - recall: 0.9898 - val_loss: 0.5193 - val_accuracy: 0.9047 - val_precision: 0.7790 - val_recall: 0.7342\n",
      "Epoch 30/50\n",
      "253/253 [==============================] - 15s 60ms/step - loss: 0.0114 - accuracy: 0.9965 - precision: 0.9934 - recall: 0.9898 - val_loss: 0.6932 - val_accuracy: 0.9038 - val_precision: 0.7951 - val_recall: 0.7026\n",
      "Epoch 31/50\n",
      "253/253 [==============================] - 17s 69ms/step - loss: 0.0140 - accuracy: 0.9954 - precision: 0.9886 - recall: 0.9892 - val_loss: 0.6380 - val_accuracy: 0.8958 - val_precision: 0.7630 - val_recall: 0.6983\n",
      "Epoch 32/50\n",
      "253/253 [==============================] - 17s 68ms/step - loss: 0.0106 - accuracy: 0.9960 - precision: 0.9910 - recall: 0.9898 - val_loss: 0.6187 - val_accuracy: 0.8978 - val_precision: 0.7575 - val_recall: 0.7227\n",
      "Epoch 33/50\n",
      "253/253 [==============================] - 17s 66ms/step - loss: 0.0110 - accuracy: 0.9962 - precision: 0.9904 - recall: 0.9910 - val_loss: 0.6747 - val_accuracy: 0.9007 - val_precision: 0.7839 - val_recall: 0.6983\n",
      "Epoch 34/50\n",
      "253/253 [==============================] - 13s 52ms/step - loss: 0.0106 - accuracy: 0.9957 - precision: 0.9904 - recall: 0.9886 - val_loss: 0.6732 - val_accuracy: 0.8989 - val_precision: 0.7464 - val_recall: 0.7529\n",
      "Epoch 35/50\n",
      "253/253 [==============================] - 13s 50ms/step - loss: 0.0104 - accuracy: 0.9962 - precision: 0.9904 - recall: 0.9910 - val_loss: 0.8812 - val_accuracy: 0.9001 - val_precision: 0.8205 - val_recall: 0.6437\n",
      "Epoch 36/50\n",
      "253/253 [==============================] - 12s 49ms/step - loss: 0.0136 - accuracy: 0.9958 - precision: 0.9922 - recall: 0.9874 - val_loss: 0.7472 - val_accuracy: 0.8992 - val_precision: 0.7906 - val_recall: 0.6782\n"
     ]
    },
    {
     "name": "stdout",
     "output_type": "stream",
     "text": [
      "Epoch 37/50\n",
      "253/253 [==============================] - 12s 49ms/step - loss: 0.0127 - accuracy: 0.9957 - precision: 0.9898 - recall: 0.9892 - val_loss: 0.6578 - val_accuracy: 0.8963 - val_precision: 0.8047 - val_recall: 0.6394\n",
      "Epoch 38/50\n",
      "253/253 [==============================] - 13s 50ms/step - loss: 0.0167 - accuracy: 0.9938 - precision: 0.9868 - recall: 0.9832 - val_loss: 0.6977 - val_accuracy: 0.8952 - val_precision: 0.7656 - val_recall: 0.6897\n",
      "Epoch 39/50\n",
      "253/253 [==============================] - 13s 51ms/step - loss: 0.0141 - accuracy: 0.9959 - precision: 0.9916 - recall: 0.9886 - val_loss: 0.8157 - val_accuracy: 0.8972 - val_precision: 0.7681 - val_recall: 0.6997\n",
      "Epoch 40/50\n",
      "253/253 [==============================] - 14s 55ms/step - loss: 0.0129 - accuracy: 0.9957 - precision: 0.9875 - recall: 0.9916 - val_loss: 0.7915 - val_accuracy: 0.8966 - val_precision: 0.7807 - val_recall: 0.6753\n",
      "Epoch 41/50\n",
      "253/253 [==============================] - 16s 64ms/step - loss: 0.0104 - accuracy: 0.9965 - precision: 0.9922 - recall: 0.9910 - val_loss: 1.1159 - val_accuracy: 0.8958 - val_precision: 0.7542 - val_recall: 0.7141\n",
      "Epoch 42/50\n",
      "253/253 [==============================] - 18s 70ms/step - loss: 0.0140 - accuracy: 0.9959 - precision: 0.9898 - recall: 0.9904 - val_loss: 0.7452 - val_accuracy: 0.8894 - val_precision: 0.7375 - val_recall: 0.6983\n",
      "Epoch 43/50\n",
      "253/253 [==============================] - 16s 62ms/step - loss: 0.0147 - accuracy: 0.9959 - precision: 0.9892 - recall: 0.9910 - val_loss: 0.9764 - val_accuracy: 0.8911 - val_precision: 0.7726 - val_recall: 0.6494\n",
      "Epoch 44/50\n",
      "253/253 [==============================] - 15s 59ms/step - loss: 0.0121 - accuracy: 0.9958 - precision: 0.9892 - recall: 0.9904 - val_loss: 0.7197 - val_accuracy: 0.8937 - val_precision: 0.7877 - val_recall: 0.6451\n",
      "Epoch 45/50\n",
      "253/253 [==============================] - 14s 54ms/step - loss: 0.0203 - accuracy: 0.9941 - precision: 0.9874 - recall: 0.9838 - val_loss: 0.7338 - val_accuracy: 0.8914 - val_precision: 0.7694 - val_recall: 0.6566\n",
      "Epoch 46/50\n",
      "253/253 [==============================] - 17s 66ms/step - loss: 0.0136 - accuracy: 0.9953 - precision: 0.9910 - recall: 0.9862 - val_loss: 0.7135 - val_accuracy: 0.8914 - val_precision: 0.7623 - val_recall: 0.6681\n",
      "Epoch 47/50\n",
      "253/253 [==============================] - 16s 65ms/step - loss: 0.0092 - accuracy: 0.9974 - precision: 0.9928 - recall: 0.9946 - val_loss: 0.7618 - val_accuracy: 0.8972 - val_precision: 0.7787 - val_recall: 0.6825\n",
      "Epoch 48/50\n",
      "253/253 [==============================] - 17s 69ms/step - loss: 0.0131 - accuracy: 0.9963 - precision: 0.9910 - recall: 0.9910 - val_loss: 0.6925 - val_accuracy: 0.8963 - val_precision: 0.7679 - val_recall: 0.6940\n",
      "Epoch 49/50\n",
      "253/253 [==============================] - 14s 55ms/step - loss: 0.0149 - accuracy: 0.9937 - precision: 0.9873 - recall: 0.9820 - val_loss: 0.7801 - val_accuracy: 0.8981 - val_precision: 0.7692 - val_recall: 0.7040\n",
      "Epoch 50/50\n",
      "253/253 [==============================] - 13s 51ms/step - loss: 0.0114 - accuracy: 0.9968 - precision: 0.9922 - recall: 0.9922 - val_loss: 0.6810 - val_accuracy: 0.9024 - val_precision: 0.8003 - val_recall: 0.6853\n"
     ]
    }
   ],
   "source": [
    "history = model.fit(X_train, y_train, epochs=50, validation_data=(X_test, y_test))"
   ]
  },
  {
   "cell_type": "code",
   "execution_count": 14,
   "id": "e2281146",
   "metadata": {},
   "outputs": [
    {
     "name": "stdout",
     "output_type": "stream",
     "text": [
      "109/109 [==============================] - 2s 18ms/step - loss: 0.6810 - accuracy: 0.9024 - precision: 0.8003 - recall: 0.6853: 1s - loss: 0.6864 - accuracy: 0.9002 - precisi\n",
      "Accuracy: 0.902\n",
      "Loss: 0.681\n",
      "Precision: 0.800\n",
      "Recall: 0.685\n",
      "F1-Score: 0.738\n"
     ]
    }
   ],
   "source": [
    "loss, acc, prec, rec = model.evaluate(X_test, y_test, verbose=1)\n",
    "f1 = 2*prec*rec/(prec+rec)\n",
    "print('Accuracy: %.3f' % acc)\n",
    "print('Loss: %.3f' % loss)\n",
    "print('Precision: %.3f' % prec)\n",
    "print('Recall: %.3f' % rec)\n",
    "print('F1-Score: %.3f' % f1)"
   ]
  },
  {
   "cell_type": "code",
   "execution_count": 15,
   "id": "85728e7e",
   "metadata": {},
   "outputs": [
    {
     "data": {
      "text/plain": [
       "<matplotlib.legend.Legend at 0x29f26d7de80>"
      ]
     },
     "execution_count": 15,
     "metadata": {},
     "output_type": "execute_result"
    },
    {
     "data": {
      "image/png": "[encoded data removed]",
      "text/plain": [
       "<Figure size 432x288 with 1 Axes>"
      ]
     },
     "metadata": {
      "needs_background": "light"
     },
     "output_type": "display_data"
    }
   ],
   "source": [
    "import matplotlib.pyplot as plt\n",
    "plt.plot(history.history['accuracy'], label='accuracy')\n",
    "plt.plot(history.history['val_accuracy'], label = 'val_accuracy')\n",
    "plt.xlabel('Epoch')\n",
    "plt.ylabel('Accuracy')\n",
    "#plt.ylim(0.6, 1.0)\n",
    "plt.legend(loc='lower right')"
   ]
  },
  {
   "cell_type": "code",
   "execution_count": 16,
   "id": "a023a593",
   "metadata": {},
   "outputs": [],
   "source": [
    "from tensorflow.keras.preprocessing.sequence import pad_sequences\n",
    "\n",
    "def get_encode(x):\n",
    "    encoded_docs = tokenizer.texts_to_sequences(x)\n",
    "    padded_sequence = pad_sequences(encoded_docs, maxlen=n_feature, padding='post')\n",
    "    return padded_sequence\n",
    "\n",
    "def get_encode2(x):\n",
    "    vt = layer(x).numpy()\n",
    "    padded_sequence = pad_sequences(vt, maxlen=n_feature, padding='post')\n",
    "    return padded_sequence"
   ]
  },
  {
   "cell_type": "code",
   "execution_count": 32,
   "id": "62ede606",
   "metadata": {},
   "outputs": [
    {
     "name": "stdout",
     "output_type": "stream",
     "text": [
      "0.8185581\n"
     ]
    }
   ],
   "source": [
    "x = ['bad sevice is terrible', 'good idea', 'its better food than before', 'right on cue with the delays']\n",
    "x1 = ['its better food']\n",
    "vec = get_encode2(x1)\n",
    "pred = model.predict(vec)\n",
    "print(np.amax(pred))"
   ]
  },
  {
   "cell_type": "code",
   "execution_count": 33,
   "id": "6e212720",
   "metadata": {},
   "outputs": [
    {
     "name": "stdout",
     "output_type": "stream",
     "text": [
      "Good\n"
     ]
    }
   ],
   "source": [
    "print(\"Bad\" if np.amax(pred) < 0.5 else \"Good\")"
   ]
  },
  {
   "cell_type": "code",
   "execution_count": null,
   "id": "7b26efe2",
   "metadata": {},
   "outputs": [],
   "source": []
  }
 ],
 "metadata": {
  "kernelspec": {
   "display_name": "Python 3 (ipykernel)",
   "language": "python",
   "name": "python3"
  },
  "language_info": {
   "codemirror_mode": {
    "name": "ipython",
    "version": 3
   },
   "file_extension": ".py",
   "mimetype": "text/x-python",
   "name": "python",
   "nbconvert_exporter": "python",
   "pygments_lexer": "ipython3",
   "version": "3.9.7"
  }
 },
 "nbformat": 4,
 "nbformat_minor": 5
}
